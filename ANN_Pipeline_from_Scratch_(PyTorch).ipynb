{
  "cells": [
    {
      "cell_type": "markdown",
      "metadata": {
        "id": "mwiHcBwRDtbp"
      },
      "source": [
        "# Fashion MNIST Classification using PyTorch\n",
        "\n",
        "This notebook showcases how to build, train, and evaluate an Artificial Neural Network (ANN) from scratch using PyTorch. The goal is to classify fashion items into one of ten categories using the **Fashion MNIST dataset**.\n",
        "\n",
        "### Project Highlights\n",
        "- Built an ANN with two hidden layers to classify grayscale images of clothing items.\n",
        "- Normalized input features for improved training stability.\n",
        "- Created a custom `Dataset` class and used `DataLoader` for batching and shuffling.\n",
        "- Trained the model using Stochastic Gradient Descent (SGD) and CrossEntropyLoss.\n",
        "- Evaluated the model using manually computed accuracy on test data.\n",
        "\n",
        "> This project was independently implemented by **Feroz Khan** as part of a hands-on deep learning learning journey using PyTorch.\n",
        "\n",
        "---\n",
        "\n",
        "**Dataset**: [Fashion MNIST (Kaggle)](https://www.kaggle.com/zalando-research/fashionmnist)  \n",
        "**Framework**: PyTorch  \n",
        "**Language**: Python 3  \n",
        "\n",
        "Update: Added GPU to use full dataset\n"
      ]
    },
    {
      "cell_type": "code",
      "execution_count": null,
      "metadata": {
        "colab": {
          "base_uri": "https://localhost:8080/",
          "height": 128
        },
        "id": "RgpVrchyuD4G",
        "outputId": "0466d08a-9cf1-4fcd-dfa4-a31bcf0dcb84"
      },
      "outputs": [],
      "source": [
        "from google.colab import files\n",
        "files.upload()"
      ]
    },
    {
      "cell_type": "code",
      "execution_count": null,
      "metadata": {
        "id": "LqrUMd6juJuL"
      },
      "outputs": [],
      "source": [
        "# Importing Essential Libraries\n",
        "import pandas as pd\n",
        "from sklearn.model_selection import train_test_split\n",
        "import matplotlib.pyplot as plt\n",
        "\n",
        "import torch\n",
        "import torch.nn as nn\n",
        "import torch.optim as optim\n",
        "from torch.utils.data import Dataset, DataLoader"
      ]
    },
    {
      "cell_type": "code",
      "execution_count": null,
      "metadata": {
        "colab": {
          "base_uri": "https://localhost:8080/"
        },
        "id": "oV_-QIQiuJrk",
        "outputId": "94ab496c-4c25-4a7e-9fd9-0c8f550b8184"
      },
      "outputs": [
        {
          "data": {
            "text/plain": [
              "<torch._C.Generator at 0x787d8a640870>"
            ]
          },
          "execution_count": 3,
          "metadata": {},
          "output_type": "execute_result"
        }
      ],
      "source": [
        "# Set manual seed for reproducibility\n",
        "torch.manual_seed(42)"
      ]
    },
    {
      "cell_type": "code",
      "execution_count": null,
      "metadata": {
        "id": "-5ARrj0qOY3j"
      },
      "outputs": [],
      "source": [
        "# Check GPU\n",
        "device = torch.device('cuda' if torch.cuda.is_available() else 'gpu')\n",
        "print(f\"Using Device: {device}\")"
      ]
    },
    {
      "cell_type": "code",
      "execution_count": null,
      "metadata": {
        "colab": {
          "base_uri": "https://localhost:8080/",
          "height": 255
        },
        "id": "m50jbzRduJpI",
        "outputId": "9af938d5-9870-4ca3-8e9a-ab22c4d6262d"
      },
      "outputs": [
        {
          "data": {
            "application/vnd.google.colaboratory.intrinsic+json": {
              "type": "dataframe",
              "variable_name": "df"
            },
            "text/html": [
              "\n",
              "  <div id=\"df-334adb1b-dea6-487f-b70c-f2faa3638130\" class=\"colab-df-container\">\n",
              "    <div>\n",
              "<style scoped>\n",
              "    .dataframe tbody tr th:only-of-type {\n",
              "        vertical-align: middle;\n",
              "    }\n",
              "\n",
              "    .dataframe tbody tr th {\n",
              "        vertical-align: top;\n",
              "    }\n",
              "\n",
              "    .dataframe thead th {\n",
              "        text-align: right;\n",
              "    }\n",
              "</style>\n",
              "<table border=\"1\" class=\"dataframe\">\n",
              "  <thead>\n",
              "    <tr style=\"text-align: right;\">\n",
              "      <th></th>\n",
              "      <th>label</th>\n",
              "      <th>pixel1</th>\n",
              "      <th>pixel2</th>\n",
              "      <th>pixel3</th>\n",
              "      <th>pixel4</th>\n",
              "      <th>pixel5</th>\n",
              "      <th>pixel6</th>\n",
              "      <th>pixel7</th>\n",
              "      <th>pixel8</th>\n",
              "      <th>pixel9</th>\n",
              "      <th>...</th>\n",
              "      <th>pixel775</th>\n",
              "      <th>pixel776</th>\n",
              "      <th>pixel777</th>\n",
              "      <th>pixel778</th>\n",
              "      <th>pixel779</th>\n",
              "      <th>pixel780</th>\n",
              "      <th>pixel781</th>\n",
              "      <th>pixel782</th>\n",
              "      <th>pixel783</th>\n",
              "      <th>pixel784</th>\n",
              "    </tr>\n",
              "  </thead>\n",
              "  <tbody>\n",
              "    <tr>\n",
              "      <th>0</th>\n",
              "      <td>9</td>\n",
              "      <td>0</td>\n",
              "      <td>0</td>\n",
              "      <td>0</td>\n",
              "      <td>0</td>\n",
              "      <td>0</td>\n",
              "      <td>0</td>\n",
              "      <td>0</td>\n",
              "      <td>0</td>\n",
              "      <td>0</td>\n",
              "      <td>...</td>\n",
              "      <td>0</td>\n",
              "      <td>7</td>\n",
              "      <td>0</td>\n",
              "      <td>50</td>\n",
              "      <td>205</td>\n",
              "      <td>196</td>\n",
              "      <td>213</td>\n",
              "      <td>165</td>\n",
              "      <td>0</td>\n",
              "      <td>0</td>\n",
              "    </tr>\n",
              "    <tr>\n",
              "      <th>1</th>\n",
              "      <td>7</td>\n",
              "      <td>0</td>\n",
              "      <td>0</td>\n",
              "      <td>0</td>\n",
              "      <td>0</td>\n",
              "      <td>0</td>\n",
              "      <td>0</td>\n",
              "      <td>0</td>\n",
              "      <td>0</td>\n",
              "      <td>0</td>\n",
              "      <td>...</td>\n",
              "      <td>0</td>\n",
              "      <td>0</td>\n",
              "      <td>0</td>\n",
              "      <td>0</td>\n",
              "      <td>0</td>\n",
              "      <td>0</td>\n",
              "      <td>0</td>\n",
              "      <td>0</td>\n",
              "      <td>0</td>\n",
              "      <td>0</td>\n",
              "    </tr>\n",
              "    <tr>\n",
              "      <th>2</th>\n",
              "      <td>0</td>\n",
              "      <td>0</td>\n",
              "      <td>0</td>\n",
              "      <td>0</td>\n",
              "      <td>0</td>\n",
              "      <td>0</td>\n",
              "      <td>1</td>\n",
              "      <td>0</td>\n",
              "      <td>0</td>\n",
              "      <td>0</td>\n",
              "      <td>...</td>\n",
              "      <td>142</td>\n",
              "      <td>142</td>\n",
              "      <td>142</td>\n",
              "      <td>21</td>\n",
              "      <td>0</td>\n",
              "      <td>3</td>\n",
              "      <td>0</td>\n",
              "      <td>0</td>\n",
              "      <td>0</td>\n",
              "      <td>0</td>\n",
              "    </tr>\n",
              "    <tr>\n",
              "      <th>3</th>\n",
              "      <td>8</td>\n",
              "      <td>0</td>\n",
              "      <td>0</td>\n",
              "      <td>0</td>\n",
              "      <td>0</td>\n",
              "      <td>0</td>\n",
              "      <td>0</td>\n",
              "      <td>0</td>\n",
              "      <td>0</td>\n",
              "      <td>0</td>\n",
              "      <td>...</td>\n",
              "      <td>0</td>\n",
              "      <td>0</td>\n",
              "      <td>0</td>\n",
              "      <td>0</td>\n",
              "      <td>0</td>\n",
              "      <td>0</td>\n",
              "      <td>0</td>\n",
              "      <td>0</td>\n",
              "      <td>0</td>\n",
              "      <td>0</td>\n",
              "    </tr>\n",
              "    <tr>\n",
              "      <th>4</th>\n",
              "      <td>8</td>\n",
              "      <td>0</td>\n",
              "      <td>0</td>\n",
              "      <td>0</td>\n",
              "      <td>0</td>\n",
              "      <td>0</td>\n",
              "      <td>0</td>\n",
              "      <td>0</td>\n",
              "      <td>0</td>\n",
              "      <td>0</td>\n",
              "      <td>...</td>\n",
              "      <td>213</td>\n",
              "      <td>203</td>\n",
              "      <td>174</td>\n",
              "      <td>151</td>\n",
              "      <td>188</td>\n",
              "      <td>10</td>\n",
              "      <td>0</td>\n",
              "      <td>0</td>\n",
              "      <td>0</td>\n",
              "      <td>0</td>\n",
              "    </tr>\n",
              "  </tbody>\n",
              "</table>\n",
              "<p>5 rows × 785 columns</p>\n",
              "</div>\n",
              "    <div class=\"colab-df-buttons\">\n",
              "\n",
              "  <div class=\"colab-df-container\">\n",
              "    <button class=\"colab-df-convert\" onclick=\"convertToInteractive('df-334adb1b-dea6-487f-b70c-f2faa3638130')\"\n",
              "            title=\"Convert this dataframe to an interactive table.\"\n",
              "            style=\"display:none;\">\n",
              "\n",
              "  <svg xmlns=\"http://www.w3.org/2000/svg\" height=\"24px\" viewBox=\"0 -960 960 960\">\n",
              "    <path d=\"M120-120v-720h720v720H120Zm60-500h600v-160H180v160Zm220 220h160v-160H400v160Zm0 220h160v-160H400v160ZM180-400h160v-160H180v160Zm440 0h160v-160H620v160ZM180-180h160v-160H180v160Zm440 0h160v-160H620v160Z\"/>\n",
              "  </svg>\n",
              "    </button>\n",
              "\n",
              "  <style>\n",
              "    .colab-df-container {\n",
              "      display:flex;\n",
              "      gap: 12px;\n",
              "    }\n",
              "\n",
              "    .colab-df-convert {\n",
              "      background-color: #E8F0FE;\n",
              "      border: none;\n",
              "      border-radius: 50%;\n",
              "      cursor: pointer;\n",
              "      display: none;\n",
              "      fill: #1967D2;\n",
              "      height: 32px;\n",
              "      padding: 0 0 0 0;\n",
              "      width: 32px;\n",
              "    }\n",
              "\n",
              "    .colab-df-convert:hover {\n",
              "      background-color: #E2EBFA;\n",
              "      box-shadow: 0px 1px 2px rgba(60, 64, 67, 0.3), 0px 1px 3px 1px rgba(60, 64, 67, 0.15);\n",
              "      fill: #174EA6;\n",
              "    }\n",
              "\n",
              "    .colab-df-buttons div {\n",
              "      margin-bottom: 4px;\n",
              "    }\n",
              "\n",
              "    [theme=dark] .colab-df-convert {\n",
              "      background-color: #3B4455;\n",
              "      fill: #D2E3FC;\n",
              "    }\n",
              "\n",
              "    [theme=dark] .colab-df-convert:hover {\n",
              "      background-color: #434B5C;\n",
              "      box-shadow: 0px 1px 3px 1px rgba(0, 0, 0, 0.15);\n",
              "      filter: drop-shadow(0px 1px 2px rgba(0, 0, 0, 0.3));\n",
              "      fill: #FFFFFF;\n",
              "    }\n",
              "  </style>\n",
              "\n",
              "    <script>\n",
              "      const buttonEl =\n",
              "        document.querySelector('#df-334adb1b-dea6-487f-b70c-f2faa3638130 button.colab-df-convert');\n",
              "      buttonEl.style.display =\n",
              "        google.colab.kernel.accessAllowed ? 'block' : 'none';\n",
              "\n",
              "      async function convertToInteractive(key) {\n",
              "        const element = document.querySelector('#df-334adb1b-dea6-487f-b70c-f2faa3638130');\n",
              "        const dataTable =\n",
              "          await google.colab.kernel.invokeFunction('convertToInteractive',\n",
              "                                                    [key], {});\n",
              "        if (!dataTable) return;\n",
              "\n",
              "        const docLinkHtml = 'Like what you see? Visit the ' +\n",
              "          '<a target=\"_blank\" href=https://colab.research.google.com/notebooks/data_table.ipynb>data table notebook</a>'\n",
              "          + ' to learn more about interactive tables.';\n",
              "        element.innerHTML = '';\n",
              "        dataTable['output_type'] = 'display_data';\n",
              "        await google.colab.output.renderOutput(dataTable, element);\n",
              "        const docLink = document.createElement('div');\n",
              "        docLink.innerHTML = docLinkHtml;\n",
              "        element.appendChild(docLink);\n",
              "      }\n",
              "    </script>\n",
              "  </div>\n",
              "\n",
              "\n",
              "    <div id=\"df-7ccad003-c4ee-4581-8d7b-b045c3e74c76\">\n",
              "      <button class=\"colab-df-quickchart\" onclick=\"quickchart('df-7ccad003-c4ee-4581-8d7b-b045c3e74c76')\"\n",
              "                title=\"Suggest charts\"\n",
              "                style=\"display:none;\">\n",
              "\n",
              "<svg xmlns=\"http://www.w3.org/2000/svg\" height=\"24px\"viewBox=\"0 0 24 24\"\n",
              "     width=\"24px\">\n",
              "    <g>\n",
              "        <path d=\"M19 3H5c-1.1 0-2 .9-2 2v14c0 1.1.9 2 2 2h14c1.1 0 2-.9 2-2V5c0-1.1-.9-2-2-2zM9 17H7v-7h2v7zm4 0h-2V7h2v10zm4 0h-2v-4h2v4z\"/>\n",
              "    </g>\n",
              "</svg>\n",
              "      </button>\n",
              "\n",
              "<style>\n",
              "  .colab-df-quickchart {\n",
              "      --bg-color: #E8F0FE;\n",
              "      --fill-color: #1967D2;\n",
              "      --hover-bg-color: #E2EBFA;\n",
              "      --hover-fill-color: #174EA6;\n",
              "      --disabled-fill-color: #AAA;\n",
              "      --disabled-bg-color: #DDD;\n",
              "  }\n",
              "\n",
              "  [theme=dark] .colab-df-quickchart {\n",
              "      --bg-color: #3B4455;\n",
              "      --fill-color: #D2E3FC;\n",
              "      --hover-bg-color: #434B5C;\n",
              "      --hover-fill-color: #FFFFFF;\n",
              "      --disabled-bg-color: #3B4455;\n",
              "      --disabled-fill-color: #666;\n",
              "  }\n",
              "\n",
              "  .colab-df-quickchart {\n",
              "    background-color: var(--bg-color);\n",
              "    border: none;\n",
              "    border-radius: 50%;\n",
              "    cursor: pointer;\n",
              "    display: none;\n",
              "    fill: var(--fill-color);\n",
              "    height: 32px;\n",
              "    padding: 0;\n",
              "    width: 32px;\n",
              "  }\n",
              "\n",
              "  .colab-df-quickchart:hover {\n",
              "    background-color: var(--hover-bg-color);\n",
              "    box-shadow: 0 1px 2px rgba(60, 64, 67, 0.3), 0 1px 3px 1px rgba(60, 64, 67, 0.15);\n",
              "    fill: var(--button-hover-fill-color);\n",
              "  }\n",
              "\n",
              "  .colab-df-quickchart-complete:disabled,\n",
              "  .colab-df-quickchart-complete:disabled:hover {\n",
              "    background-color: var(--disabled-bg-color);\n",
              "    fill: var(--disabled-fill-color);\n",
              "    box-shadow: none;\n",
              "  }\n",
              "\n",
              "  .colab-df-spinner {\n",
              "    border: 2px solid var(--fill-color);\n",
              "    border-color: transparent;\n",
              "    border-bottom-color: var(--fill-color);\n",
              "    animation:\n",
              "      spin 1s steps(1) infinite;\n",
              "  }\n",
              "\n",
              "  @keyframes spin {\n",
              "    0% {\n",
              "      border-color: transparent;\n",
              "      border-bottom-color: var(--fill-color);\n",
              "      border-left-color: var(--fill-color);\n",
              "    }\n",
              "    20% {\n",
              "      border-color: transparent;\n",
              "      border-left-color: var(--fill-color);\n",
              "      border-top-color: var(--fill-color);\n",
              "    }\n",
              "    30% {\n",
              "      border-color: transparent;\n",
              "      border-left-color: var(--fill-color);\n",
              "      border-top-color: var(--fill-color);\n",
              "      border-right-color: var(--fill-color);\n",
              "    }\n",
              "    40% {\n",
              "      border-color: transparent;\n",
              "      border-right-color: var(--fill-color);\n",
              "      border-top-color: var(--fill-color);\n",
              "    }\n",
              "    60% {\n",
              "      border-color: transparent;\n",
              "      border-right-color: var(--fill-color);\n",
              "    }\n",
              "    80% {\n",
              "      border-color: transparent;\n",
              "      border-right-color: var(--fill-color);\n",
              "      border-bottom-color: var(--fill-color);\n",
              "    }\n",
              "    90% {\n",
              "      border-color: transparent;\n",
              "      border-bottom-color: var(--fill-color);\n",
              "    }\n",
              "  }\n",
              "</style>\n",
              "\n",
              "      <script>\n",
              "        async function quickchart(key) {\n",
              "          const quickchartButtonEl =\n",
              "            document.querySelector('#' + key + ' button');\n",
              "          quickchartButtonEl.disabled = true;  // To prevent multiple clicks.\n",
              "          quickchartButtonEl.classList.add('colab-df-spinner');\n",
              "          try {\n",
              "            const charts = await google.colab.kernel.invokeFunction(\n",
              "                'suggestCharts', [key], {});\n",
              "          } catch (error) {\n",
              "            console.error('Error during call to suggestCharts:', error);\n",
              "          }\n",
              "          quickchartButtonEl.classList.remove('colab-df-spinner');\n",
              "          quickchartButtonEl.classList.add('colab-df-quickchart-complete');\n",
              "        }\n",
              "        (() => {\n",
              "          let quickchartButtonEl =\n",
              "            document.querySelector('#df-7ccad003-c4ee-4581-8d7b-b045c3e74c76 button');\n",
              "          quickchartButtonEl.style.display =\n",
              "            google.colab.kernel.accessAllowed ? 'block' : 'none';\n",
              "        })();\n",
              "      </script>\n",
              "    </div>\n",
              "\n",
              "    </div>\n",
              "  </div>\n"
            ],
            "text/plain": [
              "   label  pixel1  pixel2  pixel3  pixel4  pixel5  pixel6  pixel7  pixel8  \\\n",
              "0      9       0       0       0       0       0       0       0       0   \n",
              "1      7       0       0       0       0       0       0       0       0   \n",
              "2      0       0       0       0       0       0       1       0       0   \n",
              "3      8       0       0       0       0       0       0       0       0   \n",
              "4      8       0       0       0       0       0       0       0       0   \n",
              "\n",
              "   pixel9  ...  pixel775  pixel776  pixel777  pixel778  pixel779  pixel780  \\\n",
              "0       0  ...         0         7         0        50       205       196   \n",
              "1       0  ...         0         0         0         0         0         0   \n",
              "2       0  ...       142       142       142        21         0         3   \n",
              "3       0  ...         0         0         0         0         0         0   \n",
              "4       0  ...       213       203       174       151       188        10   \n",
              "\n",
              "   pixel781  pixel782  pixel783  pixel784  \n",
              "0       213       165         0         0  \n",
              "1         0         0         0         0  \n",
              "2         0         0         0         0  \n",
              "3         0         0         0         0  \n",
              "4         0         0         0         0  \n",
              "\n",
              "[5 rows x 785 columns]"
            ]
          },
          "execution_count": 4,
          "metadata": {},
          "output_type": "execute_result"
        }
      ],
      "source": [
        "df = pd.read_csv('/content/fmnist_small.csv')\n",
        "df.head()"
      ]
    },
    {
      "cell_type": "code",
      "execution_count": null,
      "metadata": {
        "colab": {
          "base_uri": "https://localhost:8080/"
        },
        "id": "rCWikzbJuJmT",
        "outputId": "a1a406ae-7fde-486b-9590-5678a8715442"
      },
      "outputs": [
        {
          "name": "stdout",
          "output_type": "stream",
          "text": [
            "<class 'pandas.core.frame.DataFrame'>\n",
            "RangeIndex: 6000 entries, 0 to 5999\n",
            "Columns: 785 entries, label to pixel784\n",
            "dtypes: int64(785)\n",
            "memory usage: 35.9 MB\n"
          ]
        }
      ],
      "source": [
        "df.info()"
      ]
    },
    {
      "cell_type": "code",
      "execution_count": null,
      "metadata": {
        "id": "e-lXw88euJju"
      },
      "outputs": [],
      "source": [
        "# Train Test Split\n",
        "X = df.iloc[:,1:]\n",
        "y = df.iloc[:,0]"
      ]
    },
    {
      "cell_type": "code",
      "execution_count": null,
      "metadata": {
        "id": "3OJmtkq3uJf2"
      },
      "outputs": [],
      "source": [
        "X_train, X_test, y_train, y_test = train_test_split(X, y, test_size=0.2, random_state=42)"
      ]
    },
    {
      "cell_type": "code",
      "execution_count": null,
      "metadata": {
        "id": "YAKnWLCduJdn"
      },
      "outputs": [],
      "source": [
        "# Scale the features for stable training - (Range between 0 and 1)\n",
        "X_train = X_train / 255.0\n",
        "X_test = X_test / 255.0"
      ]
    },
    {
      "cell_type": "code",
      "execution_count": null,
      "metadata": {
        "id": "9O4jH40kuJbh"
      },
      "outputs": [],
      "source": [
        "# Create CustomDataset Class\n",
        "class CustomDataset(Dataset):\n",
        "  def __init__(self, features, labels):\n",
        "    # Also converting to tensors\n",
        "    self.features = torch.tensor(features.values, dtype = torch.float32)\n",
        "    self.labels = torch.tensor(labels.values, dtype= torch.long)\n",
        "\n",
        "  def __len__(self):\n",
        "    return len(self.features)\n",
        "\n",
        "  def __getitem__(self, index):\n",
        "    return self.features[index], self.labels[index]"
      ]
    },
    {
      "cell_type": "code",
      "execution_count": null,
      "metadata": {
        "id": "JYVtaKv1uJWt"
      },
      "outputs": [],
      "source": [
        "# Create train_dataset and test_dataset objects\n",
        "train_dataset = CustomDataset(X_train, y_train)\n",
        "test_dataset = CustomDataset(X_test, y_test)"
      ]
    },
    {
      "cell_type": "code",
      "execution_count": null,
      "metadata": {
        "id": "Aw61Tu5MuNLG"
      },
      "outputs": [],
      "source": [
        "# Create train and test loader\n",
        "train_loader = DataLoader(train_dataset, batch_size= 32, shuffle=True)\n",
        "test_loader = DataLoader(test_dataset, batch_size = 32, shuffle=False)  # We don't want to shuffle data during prediction"
      ]
    },
    {
      "cell_type": "code",
      "execution_count": null,
      "metadata": {
        "id": "re8BiGCjuNI1"
      },
      "outputs": [],
      "source": [
        "# Define NN Class\n",
        "class ANN(nn.Module):\n",
        "  def __init__(self, num_features):\n",
        "    super().__init__()\n",
        "\n",
        "    self.network = nn.Sequential(\n",
        "        nn.Linear(num_features, 128),\n",
        "        nn.ReLU(),\n",
        "        nn.Linear(128, 64),\n",
        "        nn.ReLU(),\n",
        "        nn.Linear(64, 10),\n",
        "\n",
        "    )\n",
        "\n",
        "  # Forward Pass\n",
        "  def forward(self, features):\n",
        "    return self.network(features)"
      ]
    },
    {
      "cell_type": "code",
      "execution_count": null,
      "metadata": {
        "id": "QKLAcKkJuNGq"
      },
      "outputs": [],
      "source": [
        "# Set learning rate and epochs\n",
        "lr = 1e-1\n",
        "epochs = 100"
      ]
    },
    {
      "cell_type": "code",
      "execution_count": null,
      "metadata": {
        "id": "bbO-rSMouNDf"
      },
      "outputs": [],
      "source": [
        "# Instantiate the model\n",
        "model = ANN(X_train.shape[1])\n",
        "# Loss Function\n",
        "criteria = nn.CrossEntropyLoss()\n",
        "# Optimizer\n",
        "optimizer = optim.Adam(model.parameters(), lr = lr)"
      ]
    },
    {
      "cell_type": "code",
      "execution_count": null,
      "metadata": {
        "colab": {
          "base_uri": "https://localhost:8080/"
        },
        "id": "3tmsNm4VuM8d",
        "outputId": "c5f20b82-4e5c-4ada-c96d-35dd4112b859"
      },
      "outputs": [
        {
          "name": "stdout",
          "output_type": "stream",
          "text": [
            "Epoch: 1 --> Batch Loss: 0.7174815807739894\n",
            "Epoch: 2 --> Batch Loss: 0.7537097035845121\n",
            "Epoch: 3 --> Batch Loss: 0.7309567685921987\n",
            "Epoch: 4 --> Batch Loss: 0.7046292368570963\n",
            "Epoch: 5 --> Batch Loss: 0.705610785484314\n",
            "Epoch: 6 --> Batch Loss: 0.7232549188534418\n",
            "Epoch: 7 --> Batch Loss: 0.7247406369447709\n",
            "Epoch: 8 --> Batch Loss: 0.75518454571565\n",
            "Epoch: 9 --> Batch Loss: 0.7242428803443909\n",
            "Epoch: 10 --> Batch Loss: 0.7067167170842489\n",
            "Epoch: 11 --> Batch Loss: 0.6934777277708054\n",
            "Epoch: 12 --> Batch Loss: 0.7225390124320984\n",
            "Epoch: 13 --> Batch Loss: 0.7402949102719625\n",
            "Epoch: 14 --> Batch Loss: 0.7274574979146322\n",
            "Epoch: 15 --> Batch Loss: 0.6931825445095698\n",
            "Epoch: 16 --> Batch Loss: 0.7365703785419464\n",
            "Epoch: 17 --> Batch Loss: 0.7366181371609369\n",
            "Epoch: 18 --> Batch Loss: 0.7284923322995503\n",
            "Epoch: 19 --> Batch Loss: 0.7324538131554922\n",
            "Epoch: 20 --> Batch Loss: 0.7217838974793752\n",
            "Epoch: 21 --> Batch Loss: 0.749851337770621\n",
            "Epoch: 22 --> Batch Loss: 0.716709914803505\n",
            "Epoch: 23 --> Batch Loss: 0.6933734170595804\n",
            "Epoch: 24 --> Batch Loss: 0.709705755909284\n",
            "Epoch: 25 --> Batch Loss: 0.7115893242756526\n",
            "Epoch: 26 --> Batch Loss: 0.7205734821160634\n",
            "Epoch: 27 --> Batch Loss: 0.7113729707400004\n",
            "Epoch: 28 --> Batch Loss: 0.7473727188507716\n",
            "Epoch: 29 --> Batch Loss: 0.7359875001509985\n",
            "Epoch: 30 --> Batch Loss: 0.7084592433770498\n",
            "Epoch: 31 --> Batch Loss: 0.6946902855237325\n",
            "Epoch: 32 --> Batch Loss: 0.7051251097520193\n",
            "Epoch: 33 --> Batch Loss: 0.7324616654713949\n",
            "Epoch: 34 --> Batch Loss: 0.7061181838313738\n",
            "Epoch: 35 --> Batch Loss: 0.7179760525623957\n",
            "Epoch: 36 --> Batch Loss: 0.7472149950265884\n",
            "Epoch: 37 --> Batch Loss: 0.7118963472048442\n",
            "Epoch: 38 --> Batch Loss: 0.7338505240281423\n",
            "Epoch: 39 --> Batch Loss: 0.7111543009678523\n",
            "Epoch: 40 --> Batch Loss: 0.7518623101711274\n",
            "Epoch: 41 --> Batch Loss: 0.7027758298317591\n",
            "Epoch: 42 --> Batch Loss: 0.6976969265937805\n",
            "Epoch: 43 --> Batch Loss: 0.7198424591620763\n",
            "Epoch: 44 --> Batch Loss: 0.6951161348819732\n",
            "Epoch: 45 --> Batch Loss: 0.6978941720724106\n",
            "Epoch: 46 --> Batch Loss: 0.6950446110963822\n",
            "Epoch: 47 --> Batch Loss: 0.7259535745779673\n",
            "Epoch: 48 --> Batch Loss: 0.7333705433209737\n",
            "Epoch: 49 --> Batch Loss: 0.7176562124490737\n",
            "Epoch: 50 --> Batch Loss: 0.6805976351102193\n",
            "Epoch: 51 --> Batch Loss: 0.7065991507967313\n",
            "Epoch: 52 --> Batch Loss: 0.7552782505750656\n",
            "Epoch: 53 --> Batch Loss: 0.7084484608968099\n",
            "Epoch: 54 --> Batch Loss: 0.6825124273697535\n",
            "Epoch: 55 --> Batch Loss: 0.7011796708901723\n",
            "Epoch: 56 --> Batch Loss: 0.7081117129325867\n",
            "Epoch: 57 --> Batch Loss: 0.7560029884179433\n",
            "Epoch: 58 --> Batch Loss: 0.7503239693244298\n",
            "Epoch: 59 --> Batch Loss: 0.7259516829252243\n",
            "Epoch: 60 --> Batch Loss: 0.6956185285250346\n",
            "Epoch: 61 --> Batch Loss: 0.7054026609659195\n",
            "Epoch: 62 --> Batch Loss: 0.6983224606513977\n",
            "Epoch: 63 --> Batch Loss: 0.7363189208507538\n",
            "Epoch: 64 --> Batch Loss: 0.6869071688254674\n",
            "Epoch: 65 --> Batch Loss: 0.7139630581935247\n",
            "Epoch: 66 --> Batch Loss: 0.6811770655711492\n",
            "Epoch: 67 --> Batch Loss: 0.7017041502396265\n",
            "Epoch: 68 --> Batch Loss: 0.7017048799991608\n",
            "Epoch: 69 --> Batch Loss: 0.7021357542276383\n",
            "Epoch: 70 --> Batch Loss: 0.6929382113615672\n",
            "Epoch: 71 --> Batch Loss: 0.6996404453118642\n",
            "Epoch: 72 --> Batch Loss: 0.7203169480959575\n",
            "Epoch: 73 --> Batch Loss: 0.7114205916722616\n",
            "Epoch: 74 --> Batch Loss: 0.6787789505720139\n",
            "Epoch: 75 --> Batch Loss: 0.6995950543880463\n",
            "Epoch: 76 --> Batch Loss: 0.7468605260054271\n",
            "Epoch: 77 --> Batch Loss: 0.6937824348608653\n",
            "Epoch: 78 --> Batch Loss: 0.7057652940352758\n",
            "Epoch: 79 --> Batch Loss: 0.6999128518501917\n",
            "Epoch: 80 --> Batch Loss: 0.7051338565349579\n",
            "Epoch: 81 --> Batch Loss: 0.676352216998736\n",
            "Epoch: 82 --> Batch Loss: 0.7279692486921946\n",
            "Epoch: 83 --> Batch Loss: 0.6828653319676717\n",
            "Epoch: 84 --> Batch Loss: 0.7022852291663487\n",
            "Epoch: 85 --> Batch Loss: 0.7484635599454244\n",
            "Epoch: 86 --> Batch Loss: 0.7412596249580383\n",
            "Epoch: 87 --> Batch Loss: 0.7030423531929652\n",
            "Epoch: 88 --> Batch Loss: 0.696449332634608\n",
            "Epoch: 89 --> Batch Loss: 0.6974789535999298\n",
            "Epoch: 90 --> Batch Loss: 0.7078383400042851\n",
            "Epoch: 91 --> Batch Loss: 0.7325755270322164\n",
            "Epoch: 92 --> Batch Loss: 0.723601296544075\n",
            "Epoch: 93 --> Batch Loss: 0.6926447900136312\n",
            "Epoch: 94 --> Batch Loss: 0.690183263818423\n",
            "Epoch: 95 --> Batch Loss: 0.683015632033348\n",
            "Epoch: 96 --> Batch Loss: 0.6989012956619263\n",
            "Epoch: 97 --> Batch Loss: 0.7221133168538412\n",
            "Epoch: 98 --> Batch Loss: 0.6763674632708232\n",
            "Epoch: 99 --> Batch Loss: 0.6760053890943527\n",
            "Epoch: 100 --> Batch Loss: 0.6876960746447245\n"
          ]
        }
      ],
      "source": [
        "# Training Loop\n",
        "\n",
        "for epoch in range(epochs):\n",
        "\n",
        "  total_epoch_loss = 0\n",
        "\n",
        "  for batch_features, batch_labels in train_loader:\n",
        "\n",
        "    # Forward Pass\n",
        "    y_pred = model(batch_features)\n",
        "\n",
        "    # Calculate Loss\n",
        "    loss = criteria(y_pred, batch_labels)\n",
        "\n",
        "    # Clear gradients\n",
        "    optimizer.zero_grad()\n",
        "\n",
        "    # Backpropogation\n",
        "    loss.backward()\n",
        "\n",
        "    # Update params\n",
        "    optimizer.step()\n",
        "\n",
        "    # Batch Loss\n",
        "    total_epoch_loss += loss.item()\n",
        "\n",
        "  print(f\"Epoch: {epoch+1} --> Batch Loss: {total_epoch_loss/len(train_loader)}\")\n"
      ]
    },
    {
      "cell_type": "code",
      "execution_count": null,
      "metadata": {
        "id": "j4Ra_bSwuM6V"
      },
      "outputs": [],
      "source": [
        "from torchinfo import summary"
      ]
    },
    {
      "cell_type": "code",
      "execution_count": null,
      "metadata": {
        "colab": {
          "base_uri": "https://localhost:8080/"
        },
        "id": "t043atOduM4F",
        "outputId": "61dc7e1e-b4d8-4a0f-dd3d-58e645b185a1"
      },
      "outputs": [
        {
          "data": {
            "text/plain": [
              "==========================================================================================\n",
              "Layer (type:depth-idx)                   Output Shape              Param #\n",
              "==========================================================================================\n",
              "ANN                                      [32, 10]                  --\n",
              "├─Sequential: 1-1                        [32, 10]                  --\n",
              "│    └─Linear: 2-1                       [32, 128]                 100,480\n",
              "│    └─ReLU: 2-2                         [32, 128]                 --\n",
              "│    └─Linear: 2-3                       [32, 64]                  8,256\n",
              "│    └─ReLU: 2-4                         [32, 64]                  --\n",
              "│    └─Linear: 2-5                       [32, 10]                  650\n",
              "│    └─Softmax: 2-6                      [32, 10]                  --\n",
              "==========================================================================================\n",
              "Total params: 109,386\n",
              "Trainable params: 109,386\n",
              "Non-trainable params: 0\n",
              "Total mult-adds (Units.MEGABYTES): 3.50\n",
              "==========================================================================================\n",
              "Input size (MB): 0.10\n",
              "Forward/backward pass size (MB): 0.05\n",
              "Params size (MB): 0.44\n",
              "Estimated Total Size (MB): 0.59\n",
              "=========================================================================================="
            ]
          },
          "execution_count": 101,
          "metadata": {},
          "output_type": "execute_result"
        }
      ],
      "source": [
        "summary(model, input_size=(32, 784))"
      ]
    },
    {
      "cell_type": "code",
      "execution_count": null,
      "metadata": {
        "colab": {
          "base_uri": "https://localhost:8080/"
        },
        "id": "aZm6LemjuM2A",
        "outputId": "10fb54f9-4637-416e-fc48-988162d7c605"
      },
      "outputs": [
        {
          "name": "stdout",
          "output_type": "stream",
          "text": [
            "0.6266666666666667\n"
          ]
        }
      ],
      "source": [
        "# Model Evaluation\n",
        "model.eval()    # No BP; no neuron droput; batch normalization off - Behavioral changes\n",
        "\n",
        "total = 0\n",
        "correct = 0\n",
        "\n",
        "with torch.no_grad():\n",
        "\n",
        "  for batch_features, batch_labels in test_loader:\n",
        "    y_pred = model(batch_features)  # 32 x 10\n",
        "    y_pred = torch.argmax(y_pred, dim = 1)\n",
        "\n",
        "    total = total + batch_labels.shape[0]\n",
        "\n",
        "    correct = correct + (y_pred == batch_labels).sum().item()\n",
        "\n",
        "print(correct/total)\n"
      ]
    },
    {
      "cell_type": "markdown",
      "metadata": {
        "id": "xY2HHy95EGvS"
      },
      "source": [
        "### Next Steps\n",
        "- Train on the full dataset (70,000 images) using GPU\n",
        "- Experiment with optimizers like Adam or RMSprop\n",
        "- Add regularization techniques like Dropout or Batch Normalization\n",
        "- Tune model architecture and hyperparameters to push accuracy beyond 90%\n",
        "\n",
        "> This project was created by **Feroz Khan** to apply foundational concepts of PyTorch in a real-world classification task.\n",
        "\n"
      ]
    },
    {
      "cell_type": "code",
      "execution_count": null,
      "metadata": {
        "id": "yzQTS9_MuMzy"
      },
      "outputs": [],
      "source": [
        "## Let's use GPUs to load more data and train efficiently"
      ]
    },
    {
      "cell_type": "code",
      "execution_count": null,
      "metadata": {
        "colab": {
          "background_save": true,
          "base_uri": "https://localhost:8080/",
          "height": 73
        },
        "id": "fxfyjTF5uMw-",
        "outputId": "dc5c3558-f54c-4fbe-944e-16e4cbb05458"
      },
      "outputs": [
        {
          "data": {
            "text/html": [
              "\n",
              "     <input type=\"file\" id=\"files-adaf299b-948c-4450-a837-25778841d8c1\" name=\"files[]\" multiple disabled\n",
              "        style=\"border:none\" />\n",
              "     <output id=\"result-adaf299b-948c-4450-a837-25778841d8c1\">\n",
              "      Upload widget is only available when the cell has been executed in the\n",
              "      current browser session. Please rerun this cell to enable.\n",
              "      </output>\n",
              "      <script>// Copyright 2017 Google LLC\n",
              "//\n",
              "// Licensed under the Apache License, Version 2.0 (the \"License\");\n",
              "// you may not use this file except in compliance with the License.\n",
              "// You may obtain a copy of the License at\n",
              "//\n",
              "//      http://www.apache.org/licenses/LICENSE-2.0\n",
              "//\n",
              "// Unless required by applicable law or agreed to in writing, software\n",
              "// distributed under the License is distributed on an \"AS IS\" BASIS,\n",
              "// WITHOUT WARRANTIES OR CONDITIONS OF ANY KIND, either express or implied.\n",
              "// See the License for the specific language governing permissions and\n",
              "// limitations under the License.\n",
              "\n",
              "/**\n",
              " * @fileoverview Helpers for google.colab Python module.\n",
              " */\n",
              "(function(scope) {\n",
              "function span(text, styleAttributes = {}) {\n",
              "  const element = document.createElement('span');\n",
              "  element.textContent = text;\n",
              "  for (const key of Object.keys(styleAttributes)) {\n",
              "    element.style[key] = styleAttributes[key];\n",
              "  }\n",
              "  return element;\n",
              "}\n",
              "\n",
              "// Max number of bytes which will be uploaded at a time.\n",
              "const MAX_PAYLOAD_SIZE = 100 * 1024;\n",
              "\n",
              "function _uploadFiles(inputId, outputId) {\n",
              "  const steps = uploadFilesStep(inputId, outputId);\n",
              "  const outputElement = document.getElementById(outputId);\n",
              "  // Cache steps on the outputElement to make it available for the next call\n",
              "  // to uploadFilesContinue from Python.\n",
              "  outputElement.steps = steps;\n",
              "\n",
              "  return _uploadFilesContinue(outputId);\n",
              "}\n",
              "\n",
              "// This is roughly an async generator (not supported in the browser yet),\n",
              "// where there are multiple asynchronous steps and the Python side is going\n",
              "// to poll for completion of each step.\n",
              "// This uses a Promise to block the python side on completion of each step,\n",
              "// then passes the result of the previous step as the input to the next step.\n",
              "function _uploadFilesContinue(outputId) {\n",
              "  const outputElement = document.getElementById(outputId);\n",
              "  const steps = outputElement.steps;\n",
              "\n",
              "  const next = steps.next(outputElement.lastPromiseValue);\n",
              "  return Promise.resolve(next.value.promise).then((value) => {\n",
              "    // Cache the last promise value to make it available to the next\n",
              "    // step of the generator.\n",
              "    outputElement.lastPromiseValue = value;\n",
              "    return next.value.response;\n",
              "  });\n",
              "}\n",
              "\n",
              "/**\n",
              " * Generator function which is called between each async step of the upload\n",
              " * process.\n",
              " * @param {string} inputId Element ID of the input file picker element.\n",
              " * @param {string} outputId Element ID of the output display.\n",
              " * @return {!Iterable<!Object>} Iterable of next steps.\n",
              " */\n",
              "function* uploadFilesStep(inputId, outputId) {\n",
              "  const inputElement = document.getElementById(inputId);\n",
              "  inputElement.disabled = false;\n",
              "\n",
              "  const outputElement = document.getElementById(outputId);\n",
              "  outputElement.innerHTML = '';\n",
              "\n",
              "  const pickedPromise = new Promise((resolve) => {\n",
              "    inputElement.addEventListener('change', (e) => {\n",
              "      resolve(e.target.files);\n",
              "    });\n",
              "  });\n",
              "\n",
              "  const cancel = document.createElement('button');\n",
              "  inputElement.parentElement.appendChild(cancel);\n",
              "  cancel.textContent = 'Cancel upload';\n",
              "  const cancelPromise = new Promise((resolve) => {\n",
              "    cancel.onclick = () => {\n",
              "      resolve(null);\n",
              "    };\n",
              "  });\n",
              "\n",
              "  // Wait for the user to pick the files.\n",
              "  const files = yield {\n",
              "    promise: Promise.race([pickedPromise, cancelPromise]),\n",
              "    response: {\n",
              "      action: 'starting',\n",
              "    }\n",
              "  };\n",
              "\n",
              "  cancel.remove();\n",
              "\n",
              "  // Disable the input element since further picks are not allowed.\n",
              "  inputElement.disabled = true;\n",
              "\n",
              "  if (!files) {\n",
              "    return {\n",
              "      response: {\n",
              "        action: 'complete',\n",
              "      }\n",
              "    };\n",
              "  }\n",
              "\n",
              "  for (const file of files) {\n",
              "    const li = document.createElement('li');\n",
              "    li.append(span(file.name, {fontWeight: 'bold'}));\n",
              "    li.append(span(\n",
              "        `(${file.type || 'n/a'}) - ${file.size} bytes, ` +\n",
              "        `last modified: ${\n",
              "            file.lastModifiedDate ? file.lastModifiedDate.toLocaleDateString() :\n",
              "                                    'n/a'} - `));\n",
              "    const percent = span('0% done');\n",
              "    li.appendChild(percent);\n",
              "\n",
              "    outputElement.appendChild(li);\n",
              "\n",
              "    const fileDataPromise = new Promise((resolve) => {\n",
              "      const reader = new FileReader();\n",
              "      reader.onload = (e) => {\n",
              "        resolve(e.target.result);\n",
              "      };\n",
              "      reader.readAsArrayBuffer(file);\n",
              "    });\n",
              "    // Wait for the data to be ready.\n",
              "    let fileData = yield {\n",
              "      promise: fileDataPromise,\n",
              "      response: {\n",
              "        action: 'continue',\n",
              "      }\n",
              "    };\n",
              "\n",
              "    // Use a chunked sending to avoid message size limits. See b/62115660.\n",
              "    let position = 0;\n",
              "    do {\n",
              "      const length = Math.min(fileData.byteLength - position, MAX_PAYLOAD_SIZE);\n",
              "      const chunk = new Uint8Array(fileData, position, length);\n",
              "      position += length;\n",
              "\n",
              "      const base64 = btoa(String.fromCharCode.apply(null, chunk));\n",
              "      yield {\n",
              "        response: {\n",
              "          action: 'append',\n",
              "          file: file.name,\n",
              "          data: base64,\n",
              "        },\n",
              "      };\n",
              "\n",
              "      let percentDone = fileData.byteLength === 0 ?\n",
              "          100 :\n",
              "          Math.round((position / fileData.byteLength) * 100);\n",
              "      percent.textContent = `${percentDone}% done`;\n",
              "\n",
              "    } while (position < fileData.byteLength);\n",
              "  }\n",
              "\n",
              "  // All done.\n",
              "  yield {\n",
              "    response: {\n",
              "      action: 'complete',\n",
              "    }\n",
              "  };\n",
              "}\n",
              "\n",
              "scope.google = scope.google || {};\n",
              "scope.google.colab = scope.google.colab || {};\n",
              "scope.google.colab._files = {\n",
              "  _uploadFiles,\n",
              "  _uploadFilesContinue,\n",
              "};\n",
              "})(self);\n",
              "</script> "
            ],
            "text/plain": [
              "<IPython.core.display.HTML object>"
            ]
          },
          "metadata": {},
          "output_type": "display_data"
        },
        {
          "name": "stdout",
          "output_type": "stream",
          "text": [
            "Saving fashion-mnist_train.csv to fashion-mnist_train.csv\n",
            "Buffered data was truncated after reaching the output size limit."
          ]
        }
      ],
      "source": [
        "from google.colab import files\n",
        "files.upload()"
      ]
    },
    {
      "cell_type": "code",
      "execution_count": null,
      "metadata": {
        "colab": {
          "background_save": true
        },
        "id": "-vibj5xIuMsg",
        "outputId": "84acaad5-5f8e-4c41-9347-91f238fa4d8c"
      },
      "outputs": [
        {
          "ename": "RuntimeError",
          "evalue": "Expected one of cpu, cuda, ipu, xpu, mkldnn, opengl, opencl, ideep, hip, ve, fpga, maia, xla, lazy, vulkan, mps, meta, hpu, mtia, privateuseone device type at start of device string: gpu",
          "output_type": "error",
          "traceback": [
            "\u001b[0;31m---------------------------------------------------------------------------\u001b[0m",
            "\u001b[0;31mRuntimeError\u001b[0m                              Traceback (most recent call last)",
            "\u001b[0;32m<ipython-input-2-b4d051865e9a>\u001b[0m in \u001b[0;36m<cell line: 0>\u001b[0;34m()\u001b[0m\n\u001b[1;32m      2\u001b[0m \u001b[0;32mimport\u001b[0m \u001b[0mtorch\u001b[0m\u001b[0;34m\u001b[0m\u001b[0;34m\u001b[0m\u001b[0m\n\u001b[1;32m      3\u001b[0m \u001b[0;34m\u001b[0m\u001b[0m\n\u001b[0;32m----> 4\u001b[0;31m \u001b[0mdevice\u001b[0m \u001b[0;34m=\u001b[0m \u001b[0mtorch\u001b[0m\u001b[0;34m.\u001b[0m\u001b[0mdevice\u001b[0m\u001b[0;34m(\u001b[0m\u001b[0;34m'gpu'\u001b[0m \u001b[0;32mif\u001b[0m \u001b[0mtorch\u001b[0m\u001b[0;34m.\u001b[0m\u001b[0mcuda\u001b[0m\u001b[0;34m.\u001b[0m\u001b[0mis_available\u001b[0m\u001b[0;34m(\u001b[0m\u001b[0;34m)\u001b[0m \u001b[0;32melse\u001b[0m \u001b[0;34m'gpu'\u001b[0m\u001b[0;34m)\u001b[0m\u001b[0;34m\u001b[0m\u001b[0;34m\u001b[0m\u001b[0m\n\u001b[0m\u001b[1;32m      5\u001b[0m \u001b[0mprint\u001b[0m\u001b[0;34m(\u001b[0m\u001b[0mdevice\u001b[0m\u001b[0;34m)\u001b[0m\u001b[0;34m\u001b[0m\u001b[0;34m\u001b[0m\u001b[0m\n",
            "\u001b[0;31mRuntimeError\u001b[0m: Expected one of cpu, cuda, ipu, xpu, mkldnn, opengl, opencl, ideep, hip, ve, fpga, maia, xla, lazy, vulkan, mps, meta, hpu, mtia, privateuseone device type at start of device string: gpu"
          ]
        }
      ],
      "source": [
        "# Check GPU\n",
        "import torch\n",
        "\n",
        "device = torch.device('gpu' if torch.cuda.is_available() else 'gpu')\n",
        "print(device)"
      ]
    },
    {
      "cell_type": "code",
      "execution_count": null,
      "metadata": {
        "id": "9dvS1CYeuMqf"
      },
      "outputs": [],
      "source": []
    },
    {
      "cell_type": "code",
      "execution_count": null,
      "metadata": {
        "id": "Y93wldP0uMoE"
      },
      "outputs": [],
      "source": []
    },
    {
      "cell_type": "code",
      "execution_count": null,
      "metadata": {
        "id": "3utHtJZDuMlz"
      },
      "outputs": [],
      "source": []
    },
    {
      "cell_type": "code",
      "execution_count": null,
      "metadata": {
        "id": "0VwMgWQWuMjt"
      },
      "outputs": [],
      "source": []
    },
    {
      "cell_type": "code",
      "execution_count": null,
      "metadata": {
        "id": "gCsOSqnOuMhX"
      },
      "outputs": [],
      "source": []
    },
    {
      "cell_type": "code",
      "execution_count": null,
      "metadata": {
        "id": "YK7ZDsT6uMes"
      },
      "outputs": [],
      "source": []
    }
  ],
  "metadata": {
    "accelerator": "GPU",
    "colab": {
      "gpuType": "T4",
      "provenance": []
    },
    "kernelspec": {
      "display_name": "Python 3",
      "name": "python3"
    },
    "language_info": {
      "name": "python"
    }
  },
  "nbformat": 4,
  "nbformat_minor": 0
}