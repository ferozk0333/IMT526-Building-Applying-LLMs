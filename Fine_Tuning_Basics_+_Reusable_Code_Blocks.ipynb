{
  "cells": [
    {
      "cell_type": "code",
      "execution_count": 1,
      "metadata": {
        "id": "geYfYHCtpN7z"
      },
      "outputs": [],
      "source": [
        "from transformers import BertTokenizer, BertForSequenceClassification, get_linear_schedule_with_warmup\n",
        "from torch.utils.data import Dataset, DataLoader, RandomSampler, SequentialSampler\n",
        "from sklearn.model_selection import train_test_split\n",
        "from sklearn.metrics import accuracy_score, precision_recall_fscore_support, confusion_matrix\n",
        "import torch\n",
        "import numpy as np\n",
        "import pandas as pd\n",
        "import matplotlib.pyplot as plt\n",
        "import seaborn as sns\n",
        "from tqdm import tqdm\n",
        "import random\n",
        "import os\n",
        "import json"
      ]
    },
    {
      "cell_type": "code",
      "execution_count": 2,
      "metadata": {
        "id": "oWKTvqkPOfB9"
      },
      "outputs": [],
      "source": [
        "# Set random seeds for reproducibility\n",
        "random.seed(42)\n",
        "np.random.seed(42)\n",
        "torch.manual_seed(42)\n",
        "if torch.cuda.is_available():\n",
        "    torch.cuda.manual_seed_all(42)"
      ]
    },
    {
      "cell_type": "code",
      "execution_count": 3,
      "metadata": {
        "id": "bVPGqN6iJD26"
      },
      "outputs": [],
      "source": [
        "from huggingface_hub import login\n",
        "login(\"\")"
      ]
    },
    {
      "cell_type": "code",
      "execution_count": 4,
      "metadata": {
        "colab": {
          "base_uri": "https://localhost:8080/"
        },
        "id": "L8YPFylaOb4j",
        "outputId": "b95eb8a6-3b70-47e7-b6ce-f6f28e931617"
      },
      "outputs": [
        {
          "output_type": "stream",
          "name": "stdout",
          "text": [
            "Using device: cuda\n"
          ]
        }
      ],
      "source": [
        "# Check if GPU is available\n",
        "device = torch.device(\"cuda\" if torch.cuda.is_available() else \"cpu\")\n",
        "print(f\"Using device: {device}\")"
      ]
    },
    {
      "cell_type": "code",
      "execution_count": 5,
      "metadata": {
        "id": "NK-O0wyOOZ7h"
      },
      "outputs": [],
      "source": [
        "# Create a custom dataset class\n",
        "class SentimentDataset(Dataset):\n",
        "    def __init__(self, texts, labels, tokenizer, max_length=128):\n",
        "        self.texts = texts\n",
        "        self.labels = labels\n",
        "        self.tokenizer = tokenizer\n",
        "        self.max_length = max_length\n",
        "\n",
        "    def __len__(self):\n",
        "        return len(self.texts)\n",
        "\n",
        "    def __getitem__(self, idx):\n",
        "        text = str(self.texts[idx])\n",
        "        label = self.labels[idx]\n",
        "\n",
        "        # Tokenize the text\n",
        "        encoding = self.tokenizer(\n",
        "            text,\n",
        "            add_special_tokens=True, # CLS EOS\n",
        "            max_length=self.max_length,\n",
        "            return_token_type_ids=False,\n",
        "            padding='max_length',   # Padding for smaller sentences\n",
        "            truncation=True,        # Cut down long sentences\n",
        "            return_attention_mask=True,  # Tells which words are padded\n",
        "            return_tensors='pt'    # return pytorch tensors\n",
        "        )\n",
        "\n",
        "        return {\n",
        "            'input_ids': encoding['input_ids'].flatten(),\n",
        "            'attention_mask': encoding['attention_mask'].flatten(),\n",
        "            'label': torch.tensor(label, dtype=torch.long)\n",
        "        }"
      ]
    },
    {
      "cell_type": "code",
      "source": [
        "## Loading IMDB dataset\n",
        "!pip install datasets"
      ],
      "metadata": {
        "colab": {
          "base_uri": "https://localhost:8080/"
        },
        "id": "aBxEwJK9aQ5N",
        "outputId": "a1f90016-1a35-4e83-d88a-734a27c0dedd"
      },
      "execution_count": 7,
      "outputs": [
        {
          "output_type": "stream",
          "name": "stdout",
          "text": [
            "Collecting datasets\n",
            "  Downloading datasets-3.5.1-py3-none-any.whl.metadata (19 kB)\n",
            "Requirement already satisfied: filelock in /usr/local/lib/python3.11/dist-packages (from datasets) (3.18.0)\n",
            "Requirement already satisfied: numpy>=1.17 in /usr/local/lib/python3.11/dist-packages (from datasets) (2.0.2)\n",
            "Requirement already satisfied: pyarrow>=15.0.0 in /usr/local/lib/python3.11/dist-packages (from datasets) (18.1.0)\n",
            "Collecting dill<0.3.9,>=0.3.0 (from datasets)\n",
            "  Downloading dill-0.3.8-py3-none-any.whl.metadata (10 kB)\n",
            "Requirement already satisfied: pandas in /usr/local/lib/python3.11/dist-packages (from datasets) (2.2.2)\n",
            "Requirement already satisfied: requests>=2.32.2 in /usr/local/lib/python3.11/dist-packages (from datasets) (2.32.3)\n",
            "Requirement already satisfied: tqdm>=4.66.3 in /usr/local/lib/python3.11/dist-packages (from datasets) (4.67.1)\n",
            "Collecting xxhash (from datasets)\n",
            "  Downloading xxhash-3.5.0-cp311-cp311-manylinux_2_17_x86_64.manylinux2014_x86_64.whl.metadata (12 kB)\n",
            "Collecting multiprocess<0.70.17 (from datasets)\n",
            "  Downloading multiprocess-0.70.16-py311-none-any.whl.metadata (7.2 kB)\n",
            "Collecting fsspec<=2025.3.0,>=2023.1.0 (from fsspec[http]<=2025.3.0,>=2023.1.0->datasets)\n",
            "  Downloading fsspec-2025.3.0-py3-none-any.whl.metadata (11 kB)\n",
            "Requirement already satisfied: aiohttp in /usr/local/lib/python3.11/dist-packages (from datasets) (3.11.15)\n",
            "Requirement already satisfied: huggingface-hub>=0.24.0 in /usr/local/lib/python3.11/dist-packages (from datasets) (0.30.2)\n",
            "Requirement already satisfied: packaging in /usr/local/lib/python3.11/dist-packages (from datasets) (24.2)\n",
            "Requirement already satisfied: pyyaml>=5.1 in /usr/local/lib/python3.11/dist-packages (from datasets) (6.0.2)\n",
            "Requirement already satisfied: aiohappyeyeballs>=2.3.0 in /usr/local/lib/python3.11/dist-packages (from aiohttp->datasets) (2.6.1)\n",
            "Requirement already satisfied: aiosignal>=1.1.2 in /usr/local/lib/python3.11/dist-packages (from aiohttp->datasets) (1.3.2)\n",
            "Requirement already satisfied: attrs>=17.3.0 in /usr/local/lib/python3.11/dist-packages (from aiohttp->datasets) (25.3.0)\n",
            "Requirement already satisfied: frozenlist>=1.1.1 in /usr/local/lib/python3.11/dist-packages (from aiohttp->datasets) (1.6.0)\n",
            "Requirement already satisfied: multidict<7.0,>=4.5 in /usr/local/lib/python3.11/dist-packages (from aiohttp->datasets) (6.4.3)\n",
            "Requirement already satisfied: propcache>=0.2.0 in /usr/local/lib/python3.11/dist-packages (from aiohttp->datasets) (0.3.1)\n",
            "Requirement already satisfied: yarl<2.0,>=1.17.0 in /usr/local/lib/python3.11/dist-packages (from aiohttp->datasets) (1.20.0)\n",
            "Requirement already satisfied: typing-extensions>=3.7.4.3 in /usr/local/lib/python3.11/dist-packages (from huggingface-hub>=0.24.0->datasets) (4.13.2)\n",
            "Requirement already satisfied: charset-normalizer<4,>=2 in /usr/local/lib/python3.11/dist-packages (from requests>=2.32.2->datasets) (3.4.1)\n",
            "Requirement already satisfied: idna<4,>=2.5 in /usr/local/lib/python3.11/dist-packages (from requests>=2.32.2->datasets) (3.10)\n",
            "Requirement already satisfied: urllib3<3,>=1.21.1 in /usr/local/lib/python3.11/dist-packages (from requests>=2.32.2->datasets) (2.4.0)\n",
            "Requirement already satisfied: certifi>=2017.4.17 in /usr/local/lib/python3.11/dist-packages (from requests>=2.32.2->datasets) (2025.4.26)\n",
            "Requirement already satisfied: python-dateutil>=2.8.2 in /usr/local/lib/python3.11/dist-packages (from pandas->datasets) (2.9.0.post0)\n",
            "Requirement already satisfied: pytz>=2020.1 in /usr/local/lib/python3.11/dist-packages (from pandas->datasets) (2025.2)\n",
            "Requirement already satisfied: tzdata>=2022.7 in /usr/local/lib/python3.11/dist-packages (from pandas->datasets) (2025.2)\n",
            "Requirement already satisfied: six>=1.5 in /usr/local/lib/python3.11/dist-packages (from python-dateutil>=2.8.2->pandas->datasets) (1.17.0)\n",
            "Downloading datasets-3.5.1-py3-none-any.whl (491 kB)\n",
            "\u001b[2K   \u001b[90m━━━━━━━━━━━━━━━━━━━━━━━━━━━━━━━━━━━━━━━━\u001b[0m \u001b[32m491.4/491.4 kB\u001b[0m \u001b[31m35.2 MB/s\u001b[0m eta \u001b[36m0:00:00\u001b[0m\n",
            "\u001b[?25hDownloading dill-0.3.8-py3-none-any.whl (116 kB)\n",
            "\u001b[2K   \u001b[90m━━━━━━━━━━━━━━━━━━━━━━━━━━━━━━━━━━━━━━━━\u001b[0m \u001b[32m116.3/116.3 kB\u001b[0m \u001b[31m12.0 MB/s\u001b[0m eta \u001b[36m0:00:00\u001b[0m\n",
            "\u001b[?25hDownloading fsspec-2025.3.0-py3-none-any.whl (193 kB)\n",
            "\u001b[2K   \u001b[90m━━━━━━━━━━━━━━━━━━━━━━━━━━━━━━━━━━━━━━━━\u001b[0m \u001b[32m193.6/193.6 kB\u001b[0m \u001b[31m23.3 MB/s\u001b[0m eta \u001b[36m0:00:00\u001b[0m\n",
            "\u001b[?25hDownloading multiprocess-0.70.16-py311-none-any.whl (143 kB)\n",
            "\u001b[2K   \u001b[90m━━━━━━━━━━━━━━━━━━━━━━━━━━━━━━━━━━━━━━━━\u001b[0m \u001b[32m143.5/143.5 kB\u001b[0m \u001b[31m14.9 MB/s\u001b[0m eta \u001b[36m0:00:00\u001b[0m\n",
            "\u001b[?25hDownloading xxhash-3.5.0-cp311-cp311-manylinux_2_17_x86_64.manylinux2014_x86_64.whl (194 kB)\n",
            "\u001b[2K   \u001b[90m━━━━━━━━━━━━━━━━━━━━━━━━━━━━━━━━━━━━━━━━\u001b[0m \u001b[32m194.8/194.8 kB\u001b[0m \u001b[31m19.4 MB/s\u001b[0m eta \u001b[36m0:00:00\u001b[0m\n",
            "\u001b[?25hInstalling collected packages: xxhash, fsspec, dill, multiprocess, datasets\n",
            "  Attempting uninstall: fsspec\n",
            "    Found existing installation: fsspec 2025.3.2\n",
            "    Uninstalling fsspec-2025.3.2:\n",
            "      Successfully uninstalled fsspec-2025.3.2\n",
            "\u001b[31mERROR: pip's dependency resolver does not currently take into account all the packages that are installed. This behaviour is the source of the following dependency conflicts.\n",
            "gcsfs 2025.3.2 requires fsspec==2025.3.2, but you have fsspec 2025.3.0 which is incompatible.\n",
            "torch 2.6.0+cu124 requires nvidia-cublas-cu12==12.4.5.8; platform_system == \"Linux\" and platform_machine == \"x86_64\", but you have nvidia-cublas-cu12 12.5.3.2 which is incompatible.\n",
            "torch 2.6.0+cu124 requires nvidia-cuda-cupti-cu12==12.4.127; platform_system == \"Linux\" and platform_machine == \"x86_64\", but you have nvidia-cuda-cupti-cu12 12.5.82 which is incompatible.\n",
            "torch 2.6.0+cu124 requires nvidia-cuda-nvrtc-cu12==12.4.127; platform_system == \"Linux\" and platform_machine == \"x86_64\", but you have nvidia-cuda-nvrtc-cu12 12.5.82 which is incompatible.\n",
            "torch 2.6.0+cu124 requires nvidia-cuda-runtime-cu12==12.4.127; platform_system == \"Linux\" and platform_machine == \"x86_64\", but you have nvidia-cuda-runtime-cu12 12.5.82 which is incompatible.\n",
            "torch 2.6.0+cu124 requires nvidia-cudnn-cu12==9.1.0.70; platform_system == \"Linux\" and platform_machine == \"x86_64\", but you have nvidia-cudnn-cu12 9.3.0.75 which is incompatible.\n",
            "torch 2.6.0+cu124 requires nvidia-cufft-cu12==11.2.1.3; platform_system == \"Linux\" and platform_machine == \"x86_64\", but you have nvidia-cufft-cu12 11.2.3.61 which is incompatible.\n",
            "torch 2.6.0+cu124 requires nvidia-curand-cu12==10.3.5.147; platform_system == \"Linux\" and platform_machine == \"x86_64\", but you have nvidia-curand-cu12 10.3.6.82 which is incompatible.\n",
            "torch 2.6.0+cu124 requires nvidia-cusolver-cu12==11.6.1.9; platform_system == \"Linux\" and platform_machine == \"x86_64\", but you have nvidia-cusolver-cu12 11.6.3.83 which is incompatible.\n",
            "torch 2.6.0+cu124 requires nvidia-cusparse-cu12==12.3.1.170; platform_system == \"Linux\" and platform_machine == \"x86_64\", but you have nvidia-cusparse-cu12 12.5.1.3 which is incompatible.\n",
            "torch 2.6.0+cu124 requires nvidia-nvjitlink-cu12==12.4.127; platform_system == \"Linux\" and platform_machine == \"x86_64\", but you have nvidia-nvjitlink-cu12 12.5.82 which is incompatible.\u001b[0m\u001b[31m\n",
            "\u001b[0mSuccessfully installed datasets-3.5.1 dill-0.3.8 fsspec-2025.3.0 multiprocess-0.70.16 xxhash-3.5.0\n"
          ]
        }
      ]
    },
    {
      "cell_type": "code",
      "source": [
        "from datasets import load_dataset\n",
        "import pandas as pd\n",
        "from sklearn.model_selection import train_test_split\n",
        "\n",
        "# Load IMDb dataset\n",
        "imdb = load_dataset(\"imdb\")\n"
      ],
      "metadata": {
        "id": "-HSdny5UabdU"
      },
      "execution_count": 40,
      "outputs": []
    },
    {
      "cell_type": "code",
      "source": [
        "# Convert train and test splits to pandas DataFrames\n",
        "train_df = pd.DataFrame(imdb[\"train\"])\n",
        "test_df = pd.DataFrame(imdb[\"test\"])\n",
        "test_df = test_df.reset_index(drop=True)\n",
        "\n",
        "\n",
        "# Combine full dataset\n",
        "full_df = pd.concat([train_df, test_df], ignore_index=True)\n",
        "\n",
        "# Sample 7000 rows randomly\n",
        "sampled_df = full_df.sample(n=4000, random_state=42).reset_index(drop=True)\n",
        "\n",
        "# Split into train (80%) and test (20%)\n",
        "train_df, test_df = train_test_split(sampled_df, test_size=0.2, random_state=42, stratify=sampled_df[\"label\"])\n",
        "\n",
        "# Reset index to prevent KeyErrors\n",
        "train_df = train_df.reset_index(drop=True)\n",
        "test_df = test_df.reset_index(drop=True)\n"
      ],
      "metadata": {
        "id": "RteTsTa1k4OT"
      },
      "execution_count": 52,
      "outputs": []
    },
    {
      "cell_type": "code",
      "execution_count": 18,
      "metadata": {
        "id": "VOLvDEHROYDM"
      },
      "outputs": [],
      "source": [
        "# Function to create a manual dataset\n",
        "def create_manual_dataset():\n",
        "    # Positive reviews\n",
        "    positive_reviews = [\n",
        "        \"This movie was fantastic! I really enjoyed every minute of it.\",\n",
        "        \"I loved the performances in this film. The actors were amazing.\",\n",
        "        \"A masterpiece of modern cinema. I was captivated throughout.\",\n",
        "        \"The director did an excellent job with limited resources.\",\n",
        "        \"The screenplay was well-written and the direction was superb.\",\n",
        "        \"This movie exceeded all my expectations. Truly brilliant.\",\n",
        "        \"A beautiful story told with care and precision. Loved it!\",\n",
        "        \"The cinematography alone makes this film worth watching.\",\n",
        "        \"One of the best films I've seen in recent years.\",\n",
        "        \"I was on the edge of my seat the entire time. Great thriller!\",\n",
        "        \"The plot development was excellent, with surprising twists.\",\n",
        "        \"The movie had heart and soul. I was moved to tears.\",\n",
        "        \"Brilliantly acted and beautifully shot. A must-see film.\",\n",
        "        \"This film deserves all the awards. Simply outstanding.\",\n",
        "        \"I can't stop thinking about this movie. It's that good.\",\n",
        "        \"A perfect blend of humor and drama. Well balanced.\",\n",
        "        \"The score complemented the visuals perfectly. Incredible experience.\",\n",
        "        \"I've watched it three times already and still love it.\",\n",
        "        \"This film will go down as a classic. Absolutely wonderful.\",\n",
        "        \"Powerful storytelling and emotional depth. A triumph.\",\n",
        "        \"Ingenious plot and excellent character development.\",\n",
        "        \"The dialogue was sharp, witty, and memorable.\",\n",
        "        \"A refreshing take on the genre. Very original.\",\n",
        "        \"I recommend this movie to everyone. It's universally appealing.\",\n",
        "        \"The pacing was perfect. Not a dull moment throughout.\",\n",
        "        \"The ensemble cast delivered stellar performances.\",\n",
        "        \"This movie will stay with you long after it ends.\",\n",
        "        \"A creative masterpiece that pushes boundaries.\",\n",
        "        \"Enchanting and magical from start to finish.\",\n",
        "        \"The perfect movie for a Friday night. Thoroughly enjoyed it.\",\n",
        "        \"Every scene was meticulously crafted. Visually stunning.\",\n",
        "        \"The character arcs were satisfying and well-developed.\",\n",
        "        \"I couldn't have asked for a better adaptation of the book.\",\n",
        "        \"This film exceeded the hype. Absolutely fantastic.\",\n",
        "        \"The action sequences were breathtaking and innovative.\",\n",
        "        \"A thought-provoking film that challenges conventions.\",\n",
        "        \"The attention to detail in this movie was remarkable.\",\n",
        "        \"Impressive on all fronts - acting, directing, and writing.\",\n",
        "        \"This movie deserves multiple viewings to appreciate fully.\",\n",
        "        \"A unique vision brought to life beautifully on screen.\"\n",
        "    ]\n",
        "\n",
        "    # Negative reviews\n",
        "    negative_reviews = [\n",
        "        \"What a terrible waste of time. I hated this movie completely.\",\n",
        "        \"The special effects were incredible, but the story was lacking.\",\n",
        "        \"This is the worst film I've seen all year. Absolutely terrible.\",\n",
        "        \"Boring, predictable, and poorly acted. Don't waste your money.\",\n",
        "        \"I fell asleep halfway through. So boring and pointless.\",\n",
        "        \"I couldn't connect with any of the characters. Very disappointing.\",\n",
        "        \"The plot had too many holes to be enjoyable.\",\n",
        "        \"I regret spending money on this awful movie.\",\n",
        "        \"The dialogue was stilted and unrealistic. Poor writing overall.\",\n",
        "        \"Mediocre at best. Nothing special to see here.\",\n",
        "        \"This movie was a complete disaster from start to finish.\",\n",
        "        \"The pacing was off and the story made no sense.\",\n",
        "        \"Overacted and underwritten. A complete mess.\",\n",
        "        \"Too long and too boring. I checked my watch constantly.\",\n",
        "        \"The director should be ashamed of this terrible film.\",\n",
        "        \"A waste of talented actors. The script was garbage.\",\n",
        "        \"I've seen student films with better production value.\",\n",
        "        \"The ending was so disappointing it ruined the entire movie.\",\n",
        "        \"Pretentious and self-indulgent. Empty artistic posturing.\",\n",
        "        \"Too many clichés to count. Nothing original here.\",\n",
        "        \"This film is the definition of style over substance.\",\n",
        "        \"The characters were one-dimensional and unlikable.\",\n",
        "        \"Confusing plot with no payoff. Completely unsatisfying.\",\n",
        "        \"I want those two hours of my life back. Terrible.\",\n",
        "        \"It failed on every level - writing, acting, and directing.\",\n",
        "        \"A big-budget disaster. All flash and no heart.\",\n",
        "        \"This movie thinks it's smarter than it actually is.\",\n",
        "        \"Derivative and unimaginative. I've seen it all before.\",\n",
        "        \"The cinematography was the only decent thing about it.\",\n",
        "        \"I walked out of the theater halfway through.\",\n",
        "        \"This film doesn't know what it wants to be.\",\n",
        "        \"Poorly edited with jarring scene transitions.\",\n",
        "        \"The worst entry in what was once a great franchise.\",\n",
        "        \"Illogical character decisions ruined the plot.\",\n",
        "        \"This movie completely missed the point of the source material.\",\n",
        "        \"Tries too hard to be edgy and fails miserably.\",\n",
        "        \"Hollow characters in a meaningless story. Avoid.\",\n",
        "        \"The CGI looked fake and took me out of the experience.\",\n",
        "        \"This story has been told better countless times before.\",\n",
        "        \"A soulless cash grab with no artistic merit whatsoever.\"\n",
        "    ]\n",
        "\n",
        "    # Mixed reviews (more nuanced)\n",
        "    mixed_reviews = [\n",
        "        \"Good performances but the script needed work.\",\n",
        "        \"Beautiful visuals but the story was somewhat lacking.\",\n",
        "        \"An interesting concept poorly executed.\",\n",
        "        \"Started strong but fell apart in the third act.\",\n",
        "        \"Some great moments but inconsistent overall.\",\n",
        "        \"The lead actor was amazing but everyone else seemed lost.\",\n",
        "        \"Worth watching for the cinematography alone, despite the weak plot.\",\n",
        "        \"A decent film that could have been great with better editing.\",\n",
        "        \"Entertaining but ultimately forgettable.\",\n",
        "        \"An ambitious failure that at least tried something new.\",\n",
        "        \"The first half was riveting, but it lost its way.\",\n",
        "        \"Solid performances couldn't save the mediocre script.\",\n",
        "        \"A flawed gem with moments of brilliance.\",\n",
        "        \"Not as good as the director's previous work, but still worthwhile.\",\n",
        "        \"Good ideas poorly implemented. A disappointment.\",\n",
        "        \"Technical brilliance marred by narrative shortcomings.\",\n",
        "        \"Worth watching once, but wouldn't recommend buying it.\",\n",
        "        \"Not as bad as critics say, but not great either.\",\n",
        "        \"Had potential but failed to deliver on its promises.\",\n",
        "        \"The director's vision was clear but the execution was lacking.\"\n",
        "    ]\n",
        "\n",
        "    # Combine all reviews\n",
        "    all_texts = positive_reviews + negative_reviews + mixed_reviews\n",
        "\n",
        "    # Create labels (1 for positive, 0 for negative, randomly assign mixed as 0 or 1)\n",
        "    labels = [1] * len(positive_reviews) + [0] * len(negative_reviews)\n",
        "\n",
        "    # For mixed reviews, randomly assign 0 or 1\n",
        "    mixed_labels = [random.randint(0, 1) for _ in range(len(mixed_reviews))]\n",
        "    labels += mixed_labels\n",
        "\n",
        "    # Shuffle the data while maintaining label correspondence\n",
        "    combined = list(zip(all_texts, labels))\n",
        "    random.shuffle(combined)\n",
        "    all_texts, labels = zip(*combined)\n",
        "\n",
        "    return list(all_texts), list(labels)"
      ]
    },
    {
      "cell_type": "code",
      "execution_count": 53,
      "metadata": {
        "id": "M47yvbyDOVL5"
      },
      "outputs": [],
      "source": [
        "# Training function\n",
        "def train_model(model, train_dataloader, val_dataloader, optimizer, scheduler, epochs=4, model_dir='model_checkpoints'):\n",
        "    # Create directory for saving model\n",
        "    os.makedirs(model_dir, exist_ok=True)\n",
        "\n",
        "    best_val_loss = float('inf')\n",
        "    patience = 7\n",
        "    counter = 0\n",
        "\n",
        "    # Lists to store metrics\n",
        "    train_losses = []\n",
        "    val_losses = []\n",
        "    val_accuracies = []\n",
        "\n",
        "    # Dictionary to store training history\n",
        "    history = {\n",
        "        'train_loss': [],\n",
        "        'val_loss': [],\n",
        "        'val_accuracy': [],\n",
        "        'val_precision': [],\n",
        "        'val_recall': [],\n",
        "        'val_f1': []\n",
        "    }\n",
        "\n",
        "    for epoch in range(epochs):\n",
        "        print(f\"\\nEpoch {epoch+1}/{epochs}\")\n",
        "\n",
        "        # Training\n",
        "        model.train()\n",
        "        train_loss = 0\n",
        "        train_progress_bar = tqdm(train_dataloader, desc=\"Training\")\n",
        "\n",
        "        for batch in train_progress_bar:\n",
        "            # Move batch to device\n",
        "            input_ids = batch['input_ids'].to(device)\n",
        "            attention_mask = batch['attention_mask'].to(device)\n",
        "            labels = batch['label'].to(device)\n",
        "\n",
        "            # Zero gradients\n",
        "            optimizer.zero_grad()\n",
        "\n",
        "            # Forward pass\n",
        "            outputs = model(input_ids=input_ids, attention_mask=attention_mask, labels=labels)\n",
        "            loss = outputs.loss\n",
        "\n",
        "            # Backward pass and optimization\n",
        "            loss.backward()\n",
        "            torch.nn.utils.clip_grad_norm_(model.parameters(), max_norm=1.0)\n",
        "            optimizer.step()\n",
        "            scheduler.step()\n",
        "\n",
        "            # Update metrics\n",
        "            train_loss += loss.item()\n",
        "            train_progress_bar.set_postfix({'loss': loss.item()})\n",
        "\n",
        "        avg_train_loss = train_loss / len(train_dataloader)\n",
        "        train_losses.append(avg_train_loss)\n",
        "        history['train_loss'].append(avg_train_loss)\n",
        "        print(f\"Average training loss: {avg_train_loss:.4f}\")\n",
        "\n",
        "        # Validation\n",
        "        model.eval()\n",
        "        val_loss = 0\n",
        "        predictions = []\n",
        "        true_labels = []\n",
        "\n",
        "        with torch.no_grad():\n",
        "            val_progress_bar = tqdm(val_dataloader, desc=\"Validation\")\n",
        "\n",
        "            for batch in val_progress_bar:\n",
        "                input_ids = batch['input_ids'].to(device)\n",
        "                attention_mask = batch['attention_mask'].to(device)\n",
        "                labels = batch['label'].to(device)\n",
        "\n",
        "                outputs = model(input_ids=input_ids, attention_mask=attention_mask, labels=labels)\n",
        "                loss = outputs.loss\n",
        "                logits = outputs.logits\n",
        "\n",
        "                val_loss += loss.item()\n",
        "\n",
        "                # Convert logits to predictions\n",
        "                preds = torch.argmax(logits, dim=1).cpu().numpy()\n",
        "                predictions.extend(preds)\n",
        "                true_labels.extend(labels.cpu().numpy())\n",
        "\n",
        "                val_progress_bar.set_postfix({'loss': loss.item()})\n",
        "\n",
        "        avg_val_loss = val_loss / len(val_dataloader)\n",
        "        val_losses.append(avg_val_loss)\n",
        "        history['val_loss'].append(avg_val_loss)\n",
        "\n",
        "        # Calculate metrics\n",
        "        accuracy = accuracy_score(true_labels, predictions)\n",
        "        val_accuracies.append(accuracy)\n",
        "        history['val_accuracy'].append(accuracy)\n",
        "\n",
        "        precision, recall, f1, _ = precision_recall_fscore_support(\n",
        "            true_labels, predictions, average='binary', zero_division=0\n",
        "        )\n",
        "\n",
        "        history['val_precision'].append(precision)\n",
        "        history['val_recall'].append(recall)\n",
        "        history['val_f1'].append(f1)\n",
        "\n",
        "        print(f\"Validation - Loss: {avg_val_loss:.4f}, Accuracy: {accuracy:.4f}\")\n",
        "        print(f\"Precision: {precision:.4f}, Recall: {recall:.4f}, F1: {f1:.4f}\")\n",
        "\n",
        "        checkpoint_path = os.path.join(model_dir, f'checkpoint_epoch_{epoch+1}.pt')\n",
        "        save_model(model, tokenizer, checkpoint_path, history, epoch+1)\n",
        "        print(f\"Saved checkpoint for epoch {epoch+1}\")\n",
        "\n",
        "        # Early stopping\n",
        "        if avg_val_loss < best_val_loss:\n",
        "            best_val_loss = avg_val_loss\n",
        "            counter = 0\n",
        "            best_model_path = os.path.join(model_dir, 'best_model.pt')\n",
        "            save_model(model, tokenizer, best_model_path, history, epoch+1, is_best=True)\n",
        "            print(\"Saved best model!\")\n",
        "        else:\n",
        "            counter += 1\n",
        "            print(f\"EarlyStopping counter: {counter} out of {patience}\")\n",
        "            if counter >= patience:\n",
        "                print(\"Early stopping\")\n",
        "                break\n",
        "\n",
        "    # Save final model\n",
        "    final_model_path = os.path.join(model_dir, 'final_model.pt')\n",
        "    save_model(model, tokenizer, final_model_path, history, epochs)\n",
        "    print(f\"Saved final model after {epochs} epochs\")\n",
        "\n",
        "    with open(os.path.join(model_dir, 'training_history.json'), 'w') as f:\n",
        "        json.dump(history, f)\n",
        "\n",
        "    return train_losses, val_losses, val_accuracies, history"
      ]
    },
    {
      "cell_type": "code",
      "execution_count": 10,
      "metadata": {
        "id": "eHNFJE8vONp_"
      },
      "outputs": [],
      "source": [
        "# Function to save model\n",
        "def save_model(model, tokenizer, path, history=None, epoch=None, is_best=False):\n",
        "    os.makedirs(os.path.dirname(path), exist_ok=True)\n",
        "\n",
        "    torch.save({\n",
        "        'model_state_dict': model.state_dict(),\n",
        "        'epoch': epoch,\n",
        "        'is_best': is_best,\n",
        "        'history': history\n",
        "    }, path)\n",
        "\n",
        "    tokenizer_dir = os.path.join(os.path.dirname(path), 'tokenizer')\n",
        "    if not os.path.exists(tokenizer_dir):\n",
        "        os.makedirs(tokenizer_dir)\n",
        "        tokenizer.save_pretrained(tokenizer_dir)\n",
        "\n",
        "    print(f\"Model saved to {path}\")"
      ]
    },
    {
      "cell_type": "code",
      "execution_count": 11,
      "metadata": {
        "id": "tu47_RA7N6_u"
      },
      "outputs": [],
      "source": [
        "# Function to load model\n",
        "def load_model(model_path, tokenizer_dir=None):\n",
        "    if tokenizer_dir is None:\n",
        "        tokenizer_dir = os.path.join(os.path.dirname(model_path), 'tokenizer')\n",
        "\n",
        "    tokenizer = BertTokenizer.from_pretrained(tokenizer_dir)\n",
        "\n",
        "    model = BertForSequenceClassification.from_pretrained(\n",
        "        'bert-base-uncased',\n",
        "        num_labels=2,\n",
        "        output_attentions=False,\n",
        "        output_hidden_states=False\n",
        "    )\n",
        "\n",
        "    checkpoint = torch.load(model_path, map_location=device)\n",
        "    model.load_state_dict(checkpoint['model_state_dict'])\n",
        "    model = model.to(device)\n",
        "\n",
        "    print(f\"Loaded model from {model_path}\")\n",
        "    if 'epoch' in checkpoint:\n",
        "        print(f\"Model was trained for {checkpoint['epoch']} epochs\")\n",
        "    if 'is_best' in checkpoint and checkpoint['is_best']:\n",
        "        print(\"This is the best model based on validation loss\")\n",
        "\n",
        "    return model, tokenizer, checkpoint"
      ]
    },
    {
      "cell_type": "code",
      "execution_count": 12,
      "metadata": {
        "id": "dkcMlmVNN32S"
      },
      "outputs": [],
      "source": [
        "# Evaluation function\n",
        "def evaluate_model(model, test_dataloader):\n",
        "    model.eval()\n",
        "    predictions = []\n",
        "    true_labels = []\n",
        "    test_loss = 0\n",
        "\n",
        "    with torch.no_grad():\n",
        "        for batch in tqdm(test_dataloader, desc=\"Testing\"):\n",
        "            input_ids = batch['input_ids'].to(device)\n",
        "            attention_mask = batch['attention_mask'].to(device)\n",
        "            labels = batch['label'].to(device)\n",
        "\n",
        "            outputs = model(input_ids=input_ids, attention_mask=attention_mask, labels=labels)\n",
        "            loss = outputs.loss\n",
        "            logits = outputs.logits\n",
        "\n",
        "            test_loss += loss.item()\n",
        "\n",
        "            preds = torch.argmax(logits, dim=1).cpu().numpy()\n",
        "            predictions.extend(preds)\n",
        "            true_labels.extend(labels.cpu().numpy())\n",
        "\n",
        "    avg_test_loss = test_loss / len(test_dataloader)\n",
        "    accuracy = accuracy_score(true_labels, predictions)\n",
        "    precision, recall, f1, _ = precision_recall_fscore_support(\n",
        "        true_labels, predictions, average='binary', zero_division=0\n",
        "    )\n",
        "\n",
        "    cm = confusion_matrix(true_labels, predictions)\n",
        "\n",
        "    eval_results = {\n",
        "        'test_loss': avg_test_loss,\n",
        "        'accuracy': accuracy,\n",
        "        'precision': precision,\n",
        "        'recall': recall,\n",
        "        'f1': f1,\n",
        "        'confusion_matrix': cm.tolist(),\n",
        "        'predictions': predictions,\n",
        "        'true_labels': true_labels\n",
        "    }\n",
        "\n",
        "    return eval_results"
      ]
    },
    {
      "cell_type": "code",
      "execution_count": 13,
      "metadata": {
        "id": "DcgxJBkhNz-7"
      },
      "outputs": [],
      "source": [
        "# Visualization functions\n",
        "def plot_training_curves(history, save_path='plots'):\n",
        "    \"\"\"Plot training and validation curves\"\"\"\n",
        "    os.makedirs(save_path, exist_ok=True)\n",
        "\n",
        "    plt.figure(figsize=(12, 5))\n",
        "\n",
        "    # Plot losses\n",
        "    plt.subplot(1, 2, 1)\n",
        "    plt.plot(history['train_loss'], label='Training Loss')\n",
        "    plt.plot(history['val_loss'], label='Validation Loss')\n",
        "    plt.xlabel('Epoch')\n",
        "    plt.ylabel('Loss')\n",
        "    plt.title('Training and Validation Loss')\n",
        "    plt.legend()\n",
        "\n",
        "    # Plot accuracy\n",
        "    plt.subplot(1, 2, 2)\n",
        "    plt.plot(history['val_accuracy'], label='Accuracy', color='green')\n",
        "    plt.plot(history['val_precision'], label='Precision', color='blue')\n",
        "    plt.plot(history['val_recall'], label='Recall', color='red')\n",
        "    plt.plot(history['val_f1'], label='F1', color='purple')\n",
        "    plt.xlabel('Epoch')\n",
        "    plt.ylabel('Score')\n",
        "    plt.title('Validation Metrics')\n",
        "    plt.legend()\n",
        "\n",
        "    plt.tight_layout()\n",
        "    plt.savefig(os.path.join(save_path, 'training_curves.png'))\n",
        "    plt.show()"
      ]
    },
    {
      "cell_type": "code",
      "execution_count": 14,
      "metadata": {
        "id": "TzAtNf8vNu_1"
      },
      "outputs": [],
      "source": [
        "def plot_confusion_matrix(cm, save_path='plots'):\n",
        "    \"\"\"Plot confusion matrix\"\"\"\n",
        "    os.makedirs(save_path, exist_ok=True)\n",
        "\n",
        "    plt.figure(figsize=(8, 6))\n",
        "    sns.heatmap(cm, annot=True, fmt='d', cmap='Blues',\n",
        "                xticklabels=['Negative', 'Positive'],\n",
        "                yticklabels=['Negative', 'Positive'])\n",
        "    plt.xlabel('Predicted')\n",
        "    plt.ylabel('True')\n",
        "    plt.title('Confusion Matrix')\n",
        "    plt.savefig(os.path.join(save_path, 'confusion_matrix.png'))\n",
        "    plt.show()"
      ]
    },
    {
      "cell_type": "code",
      "execution_count": 15,
      "metadata": {
        "id": "yImNPLXmp6Rt"
      },
      "outputs": [],
      "source": [
        "# The most important function or task\n",
        "def predict_sentiment(model, tokenizer, texts, max_length=128):\n",
        "    model.eval()\n",
        "    predictions = []\n",
        "    confidences = []\n",
        "\n",
        "    with torch.no_grad():\n",
        "        for text in texts:\n",
        "            inputs = tokenizer(\n",
        "                text,\n",
        "                add_special_tokens=True,\n",
        "                max_length=max_length,\n",
        "                return_token_type_ids=False,\n",
        "                padding='max_length',\n",
        "                truncation=True,\n",
        "                return_attention_mask=True,\n",
        "                return_tensors='pt'\n",
        "            ).to(device)\n",
        "\n",
        "            outputs = model(**inputs)\n",
        "            logits = outputs.logits\n",
        "\n",
        "            probs = torch.nn.functional.softmax(logits, dim=1)\n",
        "\n",
        "            prediction = torch.argmax(probs, dim=1).item()\n",
        "            confidence = probs[0][prediction].item()\n",
        "\n",
        "            predictions.append(prediction)\n",
        "            confidences.append(confidence)\n",
        "\n",
        "    sentiments = [\"Negative\" if pred == 0 else \"Positive\" for pred in predictions]\n",
        "\n",
        "    return list(zip(sentiments, confidences))"
      ]
    },
    {
      "cell_type": "code",
      "source": [
        " # print(\"Creating dataset...\")\n",
        "    # texts, labels = create_manual_dataset()\n",
        "\n",
        "    # print(\"Splitting data...\")\n",
        "    # train_texts, temp_texts, train_labels, temp_labels = train_test_split(\n",
        "    #     train_df['text'], train_df['labels'], test_size=0.3, random_state=42\n",
        "    # )\n",
        "    # val_texts, test_texts, val_labels, test_labels = train_test_split(\n",
        "    #     test_df['text'], test_df['labels'], test_size=0.5, random_state=42\n",
        "    # )\n",
        "\n",
        "print(\"Creating dataset...\")\n",
        "texts, labels = create_manual_dataset()\n",
        "\n",
        "print(\"Splitting data...\")\n",
        "train_texts, temp_texts, train_labels, temp_labels = train_test_split(\n",
        "        texts, labels, test_size=0.3, random_state=42\n",
        "    )\n",
        "val_texts, test_texts, val_labels, test_labels = train_test_split(\n",
        "        temp_texts, temp_labels, test_size=0.5, random_state=42\n",
        "    )"
      ],
      "metadata": {
        "colab": {
          "base_uri": "https://localhost:8080/"
        },
        "id": "bkgLaA0vcSTf",
        "outputId": "d61346d1-dda6-4072-c295-947292f173f9"
      },
      "execution_count": 36,
      "outputs": [
        {
          "output_type": "stream",
          "name": "stdout",
          "text": [
            "Creating dataset...\n",
            "Splitting data...\n"
          ]
        }
      ]
    },
    {
      "cell_type": "code",
      "execution_count": 55,
      "metadata": {
        "id": "V-lmbehknZyW"
      },
      "outputs": [],
      "source": [
        "def main():\n",
        "    global tokenizer  # Make tokenizer accessible to save_model\n",
        "\n",
        "    os.makedirs('model_checkpoints', exist_ok=True)\n",
        "    os.makedirs('plots', exist_ok=True)\n",
        "\n",
        "    # print(\"Creating dataset...\")\n",
        "    # texts, labels = create_manual_dataset()\n",
        "\n",
        "    print(\"Splitting data...\")\n",
        "    train_texts, temp_texts, train_labels, temp_labels = train_test_split(\n",
        "        train_df['text'], train_df['label'], test_size=0.3, random_state=42\n",
        "    )\n",
        "    val_texts, test_texts, val_labels, test_labels = train_test_split(\n",
        "        test_df['text'], test_df['label'], test_size=0.5, random_state=42\n",
        "    )\n",
        "\n",
        "    train_texts = train_texts.reset_index(drop=True)\n",
        "    train_labels = train_labels.reset_index(drop=True)\n",
        "\n",
        "    val_texts = val_texts.reset_index(drop=True)\n",
        "    val_labels = val_labels.reset_index(drop=True)\n",
        "\n",
        "    test_texts = test_texts.reset_index(drop=True)\n",
        "    temp_labels = temp_labels.reset_index(drop=True)  # since you paired test_texts with temp_labels\n",
        "\n",
        "\n",
        "    print(f\"Train size: {len(train_texts)}, Validation size: {len(val_texts)}, Test size: {len(test_texts)}\")\n",
        "\n",
        "    # Initialize tokenizer\n",
        "    print(\"Loading tokenizer...\")\n",
        "    tokenizer = BertTokenizer.from_pretrained('bert-base-uncased')\n",
        "\n",
        "    # Create datasets\n",
        "    print(\"Creating datasets...\")\n",
        "    # Reset indices to prevent KeyErrors during .iloc access\n",
        "    train_texts = train_texts.reset_index(drop=True)\n",
        "    train_labels = train_labels.reset_index(drop=True)\n",
        "    val_texts = val_texts.reset_index(drop=True)\n",
        "    val_labels = val_labels.reset_index(drop=True)\n",
        "    test_texts = test_texts.reset_index(drop=True)\n",
        "    test_labels = test_labels.reset_index(drop=True)\n",
        "\n",
        "    # Create datasets\n",
        "    print(\"Creating datasets...\")\n",
        "    train_dataset = SentimentDataset(train_texts, train_labels, tokenizer)\n",
        "    val_dataset = SentimentDataset(val_texts, val_labels, tokenizer)\n",
        "    test_dataset = SentimentDataset(test_texts, test_labels, tokenizer)\n",
        "\n",
        "    train_dataset = SentimentDataset(train_texts, train_labels, tokenizer)\n",
        "    val_dataset = SentimentDataset(val_texts, val_labels, tokenizer)\n",
        "    test_dataset = SentimentDataset(test_texts, test_labels, tokenizer)\n",
        "\n",
        "    # Create data loaders\n",
        "    batch_size = 128\n",
        "    train_dataloader = DataLoader(\n",
        "        train_dataset,\n",
        "        sampler=RandomSampler(train_dataset),\n",
        "        batch_size=batch_size\n",
        "    )\n",
        "    val_dataloader = DataLoader(\n",
        "        val_dataset,\n",
        "        sampler=SequentialSampler(val_dataset),\n",
        "        batch_size=batch_size\n",
        "    )\n",
        "    test_dataloader = DataLoader(\n",
        "        test_dataset,\n",
        "        sampler=SequentialSampler(test_dataset),\n",
        "        batch_size=batch_size\n",
        "    )\n",
        "\n",
        "    # Initialize model\n",
        "    print(\"Loading model...\")\n",
        "    model = BertForSequenceClassification.from_pretrained(\n",
        "        'bert-base-uncased',\n",
        "        num_labels=2,  # Binary classification\n",
        "        output_attentions=False,\n",
        "        output_hidden_states=False\n",
        "    )\n",
        "    model = model.to(device)\n",
        "\n",
        "    # Initialize optimizer and scheduler\n",
        "    epochs = 10\n",
        "    optimizer = torch.optim.AdamW(model.parameters(), lr= 1e-5, eps=1e-8)\n",
        "\n",
        "    # Create scheduler\n",
        "    total_steps = len(train_dataloader) * epochs\n",
        "    scheduler = get_linear_schedule_with_warmup(\n",
        "        optimizer,\n",
        "        num_warmup_steps=0,\n",
        "        num_training_steps=total_steps\n",
        "    )\n",
        "\n",
        "    # Train model\n",
        "    print(\"Training model...\")\n",
        "    train_losses, val_losses, val_accuracies, history = train_model(\n",
        "        model, train_dataloader, val_dataloader, optimizer, scheduler, epochs=epochs\n",
        "    )\n",
        "\n",
        "    # Load best model for evaluation\n",
        "    print(\"Loading best model for evaluation...\")\n",
        "    model, tokenizer, checkpoint = load_model('model_checkpoints/best_model.pt')\n",
        "\n",
        "    # Evaluate model\n",
        "    print(\"Evaluating model...\")\n",
        "    eval_results = evaluate_model(model, test_dataloader)\n",
        "\n",
        "    print(\"\\nTest Results:\")\n",
        "    print(f\"Test Loss: {eval_results['test_loss']:.4f}\")\n",
        "    print(f\"Accuracy: {eval_results['accuracy']:.4f}\")\n",
        "    print(f\"Precision: {eval_results['precision']:.4f}\")\n",
        "    print(f\"Recall: {eval_results['recall']:.4f}\")\n",
        "    print(f\"F1 Score: {eval_results['f1']:.4f}\")\n",
        "\n",
        "    # Save evaluation results\n",
        "    with open('model_checkpoints/evaluation_results.json', 'w') as f:\n",
        "        # Convert numpy values to Python native types for JSON serialization\n",
        "        serializable_results = {\n",
        "            k: v if not isinstance(v, np.ndarray) and not isinstance(v, list) or k in ['confusion_matrix']\n",
        "            else v.tolist() if isinstance(v, np.ndarray)\n",
        "            else [float(item) for item in v]\n",
        "            for k, v in eval_results.items()\n",
        "        }\n",
        "        json.dump(serializable_results, f, indent=4)\n",
        "\n",
        "    # Plot results\n",
        "    plot_training_curves(history)\n",
        "    plot_confusion_matrix(np.array(eval_results['confusion_matrix']))\n",
        "\n",
        "    # Example inference\n",
        "    print(\"\\nExample Inference:\")\n",
        "    example_texts = [\n",
        "    \"I am happy today.\",\n",
        "    \"This is so sad.\",\n",
        "    \"I’m really scared.\",\n",
        "    \"That made me angry.\",\n",
        "    \"Although I smiled, deep down I felt completely empty.\",\n",
        "    \"I didn’t expect it, but I’m incredibly proud of myself.\",\n",
        "    \"My hands were shaking as I waited for the results.\",\n",
        "    \"I’m not unhappy, but I wouldn’t say I’m thrilled either.\",\n",
        "    \"I can’t deny that I didn’t feel a bit of joy.\",\n",
        "    \"She wasn’t exactly angry, yet something about her silence screamed frustration.\"\n",
        "    ]\n",
        "\n",
        "\n",
        "    results = predict_sentiment(model, tokenizer, example_texts)\n",
        "\n",
        "    for i, (text, (sentiment, confidence)) in enumerate(zip(example_texts, results)):\n",
        "        print(f\"Example {i+1}: {text}\")\n",
        "        print(f\"Predicted sentiment: {sentiment} (confidence: {confidence:.4f})\\n\")\n",
        "\n",
        "    # Save model in format for easy reloading\n",
        "    model_dir = 'sentiment_analysis_model'\n",
        "    os.makedirs(model_dir, exist_ok=True)\n",
        "    model.save_pretrained(model_dir)\n",
        "    tokenizer.save_pretrained(model_dir)\n",
        "\n",
        "    # Save a config file with model information\n",
        "    config = {\n",
        "        'model_type': 'bert-base-uncased',\n",
        "        'num_labels': 2,\n",
        "        'max_length': 64,\n",
        "        'labels': {\n",
        "            '0': 'Negative',\n",
        "            '1': 'Positive'\n",
        "        },\n",
        "        'performance': {\n",
        "            'accuracy': float(eval_results['accuracy']),\n",
        "            'f1': float(eval_results['f1'])\n",
        "        },\n",
        "        'training_completed': True\n",
        "    }\n",
        "\n",
        "    with open(os.path.join(model_dir, 'model_config.json'), 'w') as f:\n",
        "        json.dump(config, f, indent=4)\n",
        "\n",
        "    print(f\"\\nModel, tokenizer, and config saved to {model_dir}\")\n",
        "    print(\"To use this model later, you can load it with:\")\n",
        "    print(\"model = BertForSequenceClassification.from_pretrained('sentiment_analysis_model')\")\n",
        "    print(\"tokenizer = BertTokenizer.from_pretrained('sentiment_analysis_model')\")"
      ]
    },
    {
      "cell_type": "code",
      "execution_count": 56,
      "metadata": {
        "colab": {
          "base_uri": "https://localhost:8080/",
          "height": 1000
        },
        "id": "VsfLwWumG4NV",
        "outputId": "db0a4c66-0938-4cf4-e90b-98f12b18c4e2",
        "scrolled": true
      },
      "outputs": [
        {
          "output_type": "stream",
          "name": "stdout",
          "text": [
            "Splitting data...\n",
            "Train size: 2240, Validation size: 400, Test size: 400\n",
            "Loading tokenizer...\n",
            "Creating datasets...\n",
            "Creating datasets...\n",
            "Loading model...\n"
          ]
        },
        {
          "output_type": "stream",
          "name": "stderr",
          "text": [
            "Some weights of BertForSequenceClassification were not initialized from the model checkpoint at bert-base-uncased and are newly initialized: ['classifier.bias', 'classifier.weight']\n",
            "You should probably TRAIN this model on a down-stream task to be able to use it for predictions and inference.\n"
          ]
        },
        {
          "output_type": "stream",
          "name": "stdout",
          "text": [
            "Training model...\n",
            "\n",
            "Epoch 1/10\n"
          ]
        },
        {
          "output_type": "stream",
          "name": "stderr",
          "text": [
            "Training: 100%|██████████| 18/18 [00:57<00:00,  3.18s/it, loss=0.625]\n"
          ]
        },
        {
          "output_type": "stream",
          "name": "stdout",
          "text": [
            "Average training loss: 0.6672\n"
          ]
        },
        {
          "output_type": "stream",
          "name": "stderr",
          "text": [
            "Validation: 100%|██████████| 4/4 [00:04<00:00,  1.12s/it, loss=0.571]\n"
          ]
        },
        {
          "output_type": "stream",
          "name": "stdout",
          "text": [
            "Validation - Loss: 0.6148, Accuracy: 0.6775\n",
            "Precision: 0.6185, Recall: 0.8653, F1: 0.7214\n",
            "Model saved to model_checkpoints/checkpoint_epoch_1.pt\n",
            "Saved checkpoint for epoch 1\n",
            "Model saved to model_checkpoints/best_model.pt\n",
            "Saved best model!\n",
            "\n",
            "Epoch 2/10\n"
          ]
        },
        {
          "output_type": "stream",
          "name": "stderr",
          "text": [
            "Training: 100%|██████████| 18/18 [00:56<00:00,  3.15s/it, loss=0.529]\n"
          ]
        },
        {
          "output_type": "stream",
          "name": "stdout",
          "text": [
            "Average training loss: 0.5567\n"
          ]
        },
        {
          "output_type": "stream",
          "name": "stderr",
          "text": [
            "Validation: 100%|██████████| 4/4 [00:04<00:00,  1.24s/it, loss=0.52]\n"
          ]
        },
        {
          "output_type": "stream",
          "name": "stdout",
          "text": [
            "Validation - Loss: 0.4987, Accuracy: 0.8000\n",
            "Precision: 0.7653, Recall: 0.8446, F1: 0.8030\n",
            "Model saved to model_checkpoints/checkpoint_epoch_2.pt\n",
            "Saved checkpoint for epoch 2\n",
            "Model saved to model_checkpoints/best_model.pt\n",
            "Saved best model!\n",
            "\n",
            "Epoch 3/10\n"
          ]
        },
        {
          "output_type": "stream",
          "name": "stderr",
          "text": [
            "Training: 100%|██████████| 18/18 [00:56<00:00,  3.14s/it, loss=0.408]\n"
          ]
        },
        {
          "output_type": "stream",
          "name": "stdout",
          "text": [
            "Average training loss: 0.4384\n"
          ]
        },
        {
          "output_type": "stream",
          "name": "stderr",
          "text": [
            "Validation: 100%|██████████| 4/4 [00:04<00:00,  1.14s/it, loss=0.472]\n"
          ]
        },
        {
          "output_type": "stream",
          "name": "stdout",
          "text": [
            "Validation - Loss: 0.4399, Accuracy: 0.8025\n",
            "Precision: 0.7794, Recall: 0.8238, F1: 0.8010\n",
            "Model saved to model_checkpoints/checkpoint_epoch_3.pt\n",
            "Saved checkpoint for epoch 3\n",
            "Model saved to model_checkpoints/best_model.pt\n",
            "Saved best model!\n",
            "\n",
            "Epoch 4/10\n"
          ]
        },
        {
          "output_type": "stream",
          "name": "stderr",
          "text": [
            "Training: 100%|██████████| 18/18 [00:56<00:00,  3.14s/it, loss=0.356]\n"
          ]
        },
        {
          "output_type": "stream",
          "name": "stdout",
          "text": [
            "Average training loss: 0.3662\n"
          ]
        },
        {
          "output_type": "stream",
          "name": "stderr",
          "text": [
            "Validation: 100%|██████████| 4/4 [00:05<00:00,  1.27s/it, loss=0.502]\n"
          ]
        },
        {
          "output_type": "stream",
          "name": "stdout",
          "text": [
            "Validation - Loss: 0.4338, Accuracy: 0.8050\n",
            "Precision: 0.7674, Recall: 0.8549, F1: 0.8088\n",
            "Model saved to model_checkpoints/checkpoint_epoch_4.pt\n",
            "Saved checkpoint for epoch 4\n",
            "Model saved to model_checkpoints/best_model.pt\n",
            "Saved best model!\n",
            "\n",
            "Epoch 5/10\n"
          ]
        },
        {
          "output_type": "stream",
          "name": "stderr",
          "text": [
            "Training: 100%|██████████| 18/18 [00:56<00:00,  3.16s/it, loss=0.247]\n"
          ]
        },
        {
          "output_type": "stream",
          "name": "stdout",
          "text": [
            "Average training loss: 0.3125\n"
          ]
        },
        {
          "output_type": "stream",
          "name": "stderr",
          "text": [
            "Validation: 100%|██████████| 4/4 [00:04<00:00,  1.20s/it, loss=0.53]\n"
          ]
        },
        {
          "output_type": "stream",
          "name": "stdout",
          "text": [
            "Validation - Loss: 0.4319, Accuracy: 0.8225\n",
            "Precision: 0.7933, Recall: 0.8549, F1: 0.8229\n",
            "Model saved to model_checkpoints/checkpoint_epoch_5.pt\n",
            "Saved checkpoint for epoch 5\n",
            "Model saved to model_checkpoints/best_model.pt\n",
            "Saved best model!\n",
            "\n",
            "Epoch 6/10\n"
          ]
        },
        {
          "output_type": "stream",
          "name": "stderr",
          "text": [
            "Training: 100%|██████████| 18/18 [00:55<00:00,  3.10s/it, loss=0.336]\n"
          ]
        },
        {
          "output_type": "stream",
          "name": "stdout",
          "text": [
            "Average training loss: 0.2755\n"
          ]
        },
        {
          "output_type": "stream",
          "name": "stderr",
          "text": [
            "Validation: 100%|██████████| 4/4 [00:05<00:00,  1.28s/it, loss=0.532]\n"
          ]
        },
        {
          "output_type": "stream",
          "name": "stdout",
          "text": [
            "Validation - Loss: 0.4323, Accuracy: 0.8200\n",
            "Precision: 0.8418, Recall: 0.7720, F1: 0.8054\n",
            "Model saved to model_checkpoints/checkpoint_epoch_6.pt\n",
            "Saved checkpoint for epoch 6\n",
            "EarlyStopping counter: 1 out of 7\n",
            "\n",
            "Epoch 7/10\n"
          ]
        },
        {
          "output_type": "stream",
          "name": "stderr",
          "text": [
            "Training: 100%|██████████| 18/18 [00:56<00:00,  3.16s/it, loss=0.276]\n"
          ]
        },
        {
          "output_type": "stream",
          "name": "stdout",
          "text": [
            "Average training loss: 0.2464\n"
          ]
        },
        {
          "output_type": "stream",
          "name": "stderr",
          "text": [
            "Validation: 100%|██████████| 4/4 [00:04<00:00,  1.19s/it, loss=0.535]\n"
          ]
        },
        {
          "output_type": "stream",
          "name": "stdout",
          "text": [
            "Validation - Loss: 0.4358, Accuracy: 0.8200\n",
            "Precision: 0.8418, Recall: 0.7720, F1: 0.8054\n",
            "Model saved to model_checkpoints/checkpoint_epoch_7.pt\n",
            "Saved checkpoint for epoch 7\n",
            "EarlyStopping counter: 2 out of 7\n",
            "\n",
            "Epoch 8/10\n"
          ]
        },
        {
          "output_type": "stream",
          "name": "stderr",
          "text": [
            "Training: 100%|██████████| 18/18 [00:56<00:00,  3.14s/it, loss=0.284]\n"
          ]
        },
        {
          "output_type": "stream",
          "name": "stdout",
          "text": [
            "Average training loss: 0.2383\n"
          ]
        },
        {
          "output_type": "stream",
          "name": "stderr",
          "text": [
            "Validation: 100%|██████████| 4/4 [00:04<00:00,  1.11s/it, loss=0.562]\n"
          ]
        },
        {
          "output_type": "stream",
          "name": "stdout",
          "text": [
            "Validation - Loss: 0.4420, Accuracy: 0.8225\n",
            "Precision: 0.8177, Recall: 0.8135, F1: 0.8156\n",
            "Model saved to model_checkpoints/checkpoint_epoch_8.pt\n",
            "Saved checkpoint for epoch 8\n",
            "EarlyStopping counter: 3 out of 7\n",
            "\n",
            "Epoch 9/10\n"
          ]
        },
        {
          "output_type": "stream",
          "name": "stderr",
          "text": [
            "Training: 100%|██████████| 18/18 [00:57<00:00,  3.18s/it, loss=0.251]\n"
          ]
        },
        {
          "output_type": "stream",
          "name": "stdout",
          "text": [
            "Average training loss: 0.2148\n"
          ]
        },
        {
          "output_type": "stream",
          "name": "stderr",
          "text": [
            "Validation: 100%|██████████| 4/4 [00:04<00:00,  1.11s/it, loss=0.577]\n"
          ]
        },
        {
          "output_type": "stream",
          "name": "stdout",
          "text": [
            "Validation - Loss: 0.4481, Accuracy: 0.8125\n",
            "Precision: 0.7783, Recall: 0.8549, F1: 0.8148\n",
            "Model saved to model_checkpoints/checkpoint_epoch_9.pt\n",
            "Saved checkpoint for epoch 9\n",
            "EarlyStopping counter: 4 out of 7\n",
            "\n",
            "Epoch 10/10\n"
          ]
        },
        {
          "output_type": "stream",
          "name": "stderr",
          "text": [
            "Training: 100%|██████████| 18/18 [00:57<00:00,  3.17s/it, loss=0.163]\n"
          ]
        },
        {
          "output_type": "stream",
          "name": "stdout",
          "text": [
            "Average training loss: 0.2052\n"
          ]
        },
        {
          "output_type": "stream",
          "name": "stderr",
          "text": [
            "Validation: 100%|██████████| 4/4 [00:04<00:00,  1.11s/it, loss=0.573]\n"
          ]
        },
        {
          "output_type": "stream",
          "name": "stdout",
          "text": [
            "Validation - Loss: 0.4441, Accuracy: 0.8200\n",
            "Precision: 0.7951, Recall: 0.8446, F1: 0.8191\n",
            "Model saved to model_checkpoints/checkpoint_epoch_10.pt\n",
            "Saved checkpoint for epoch 10\n",
            "EarlyStopping counter: 5 out of 7\n",
            "Model saved to model_checkpoints/final_model.pt\n",
            "Saved final model after 10 epochs\n",
            "Loading best model for evaluation...\n"
          ]
        },
        {
          "output_type": "stream",
          "name": "stderr",
          "text": [
            "Some weights of BertForSequenceClassification were not initialized from the model checkpoint at bert-base-uncased and are newly initialized: ['classifier.bias', 'classifier.weight']\n",
            "You should probably TRAIN this model on a down-stream task to be able to use it for predictions and inference.\n"
          ]
        },
        {
          "output_type": "stream",
          "name": "stdout",
          "text": [
            "Loaded model from model_checkpoints/best_model.pt\n",
            "Model was trained for 5 epochs\n",
            "This is the best model based on validation loss\n",
            "Evaluating model...\n"
          ]
        },
        {
          "output_type": "stream",
          "name": "stderr",
          "text": [
            "Testing: 100%|██████████| 4/4 [00:04<00:00,  1.20s/it]\n"
          ]
        },
        {
          "output_type": "stream",
          "name": "stdout",
          "text": [
            "\n",
            "Test Results:\n",
            "Test Loss: 0.4038\n",
            "Accuracy: 0.8100\n",
            "Precision: 0.8029\n",
            "Recall: 0.8267\n",
            "F1 Score: 0.8146\n"
          ]
        },
        {
          "output_type": "display_data",
          "data": {
            "text/plain": [
              "<Figure size 1200x500 with 2 Axes>"
            ],
            "image/png": "[encoded data removed]"
          },
          "metadata": {}
        },
        {
          "output_type": "display_data",
          "data": {
            "text/plain": [
              "<Figure size 800x600 with 2 Axes>"
            ],
            "image/png": "[encoded data removed]"
          },
          "metadata": {}
        },
        {
          "output_type": "stream",
          "name": "stdout",
          "text": [
            "\n",
            "Example Inference:\n",
            "Example 1: I am happy today.\n",
            "Predicted sentiment: Positive (confidence: 0.8122)\n",
            "\n",
            "Example 2: This is so sad.\n",
            "Predicted sentiment: Negative (confidence: 0.8119)\n",
            "\n",
            "Example 3: I’m really scared.\n",
            "Predicted sentiment: Negative (confidence: 0.7489)\n",
            "\n",
            "Example 4: That made me angry.\n",
            "Predicted sentiment: Negative (confidence: 0.6757)\n",
            "\n",
            "Example 5: Although I smiled, deep down I felt completely empty.\n",
            "Predicted sentiment: Negative (confidence: 0.6995)\n",
            "\n",
            "Example 6: I didn’t expect it, but I’m incredibly proud of myself.\n",
            "Predicted sentiment: Positive (confidence: 0.9050)\n",
            "\n",
            "Example 7: My hands were shaking as I waited for the results.\n",
            "Predicted sentiment: Negative (confidence: 0.7360)\n",
            "\n",
            "Example 8: I’m not unhappy, but I wouldn’t say I’m thrilled either.\n",
            "Predicted sentiment: Negative (confidence: 0.6228)\n",
            "\n",
            "Example 9: I can’t deny that I didn’t feel a bit of joy.\n",
            "Predicted sentiment: Negative (confidence: 0.5952)\n",
            "\n",
            "Example 10: She wasn’t exactly angry, yet something about her silence screamed frustration.\n",
            "Predicted sentiment: Negative (confidence: 0.7452)\n",
            "\n",
            "\n",
            "Model, tokenizer, and config saved to sentiment_analysis_model\n",
            "To use this model later, you can load it with:\n",
            "model = BertForSequenceClassification.from_pretrained('sentiment_analysis_model')\n",
            "tokenizer = BertTokenizer.from_pretrained('sentiment_analysis_model')\n"
          ]
        }
      ],
      "source": [
        "if __name__ == \"__main__\":\n",
        "    main()"
      ]
    },
    {
      "cell_type": "code",
      "execution_count": 32,
      "metadata": {
        "id": "-pGOYHhXHcaq",
        "colab": {
          "base_uri": "https://localhost:8080/"
        },
        "outputId": "658aae9f-1cc9-4584-80d4-927cd0a9d17a"
      },
      "outputs": [
        {
          "output_type": "execute_result",
          "data": {
            "text/plain": [
              "np.int64(1)"
            ]
          },
          "metadata": {},
          "execution_count": 32
        }
      ],
      "source": [
        "train_df['label'][15295]"
      ]
    }
  ],
  "metadata": {
    "accelerator": "GPU",
    "colab": {
      "gpuType": "T4",
      "provenance": []
    },
    "kernelspec": {
      "display_name": "Python 3",
      "name": "python3"
    },
    "language_info": {
      "codemirror_mode": {
        "name": "ipython",
        "version": 3
      },
      "file_extension": ".py",
      "mimetype": "text/x-python",
      "name": "python",
      "nbconvert_exporter": "python",
      "pygments_lexer": "ipython3",
      "version": "3.12.9"
    }
  },
  "nbformat": 4,
  "nbformat_minor": 0
}