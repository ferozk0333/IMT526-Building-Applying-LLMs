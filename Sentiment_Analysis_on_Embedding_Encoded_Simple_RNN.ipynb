{
  "nbformat": 4,
  "nbformat_minor": 0,
  "metadata": {
    "colab": {
      "provenance": []
    },
    "kernelspec": {
      "name": "python3",
      "display_name": "Python 3"
    },
    "language_info": {
      "name": "python"
    }
  },
  "cells": [
    {
      "cell_type": "code",
      "execution_count": 1,
      "metadata": {
        "id": "-esMQDyT70PK"
      },
      "outputs": [],
      "source": [
        "import numpy as np\n",
        "\n",
        "docs = [\"Hello world\",\n",
        "        \"The sun rises in the east\",\n",
        "        \"AI is transforming the world\",\n",
        "        \"RNNs can remember previous inputs\",\n",
        "        \"Deep learning models need lots of data\",\n",
        "        \"This is short\",\n",
        "        \"Sometimes less is more\",\n",
        "        \"Natural language processing is fun and complex\",\n",
        "        \"Train your model carefully\",\n",
        "        \"I love learning new things\"\n",
        "]"
      ]
    },
    {
      "cell_type": "code",
      "source": [
        "from tensorflow.keras.preprocessing.text import Tokenizer\n",
        "tokenizer = Tokenizer()"
      ],
      "metadata": {
        "id": "6o-yC88s77vt"
      },
      "execution_count": 2,
      "outputs": []
    },
    {
      "cell_type": "code",
      "source": [
        "tokenizer.fit_on_texts(docs)"
      ],
      "metadata": {
        "id": "wnyE8omx77qs"
      },
      "execution_count": 3,
      "outputs": []
    },
    {
      "cell_type": "code",
      "source": [
        "tokenizer.word_index"
      ],
      "metadata": {
        "colab": {
          "base_uri": "https://localhost:8080/"
        },
        "id": "q1AYlOer77oM",
        "outputId": "e95d4d37-13d0-4949-f687-e47122d0f306"
      },
      "execution_count": 4,
      "outputs": [
        {
          "output_type": "execute_result",
          "data": {
            "text/plain": [
              "{'is': 1,\n",
              " 'the': 2,\n",
              " 'world': 3,\n",
              " 'learning': 4,\n",
              " 'hello': 5,\n",
              " 'sun': 6,\n",
              " 'rises': 7,\n",
              " 'in': 8,\n",
              " 'east': 9,\n",
              " 'ai': 10,\n",
              " 'transforming': 11,\n",
              " 'rnns': 12,\n",
              " 'can': 13,\n",
              " 'remember': 14,\n",
              " 'previous': 15,\n",
              " 'inputs': 16,\n",
              " 'deep': 17,\n",
              " 'models': 18,\n",
              " 'need': 19,\n",
              " 'lots': 20,\n",
              " 'of': 21,\n",
              " 'data': 22,\n",
              " 'this': 23,\n",
              " 'short': 24,\n",
              " 'sometimes': 25,\n",
              " 'less': 26,\n",
              " 'more': 27,\n",
              " 'natural': 28,\n",
              " 'language': 29,\n",
              " 'processing': 30,\n",
              " 'fun': 31,\n",
              " 'and': 32,\n",
              " 'complex': 33,\n",
              " 'train': 34,\n",
              " 'your': 35,\n",
              " 'model': 36,\n",
              " 'carefully': 37,\n",
              " 'i': 38,\n",
              " 'love': 39,\n",
              " 'new': 40,\n",
              " 'things': 41}"
            ]
          },
          "metadata": {},
          "execution_count": 4
        }
      ]
    },
    {
      "cell_type": "code",
      "source": [
        "# Frequency distribution of words\n",
        "tokenizer.word_counts"
      ],
      "metadata": {
        "colab": {
          "base_uri": "https://localhost:8080/"
        },
        "id": "J-RI1HLJ77lq",
        "outputId": "c0a588e1-3248-45c6-ad5c-b0c5a99721b4"
      },
      "execution_count": 5,
      "outputs": [
        {
          "output_type": "execute_result",
          "data": {
            "text/plain": [
              "OrderedDict([('hello', 1),\n",
              "             ('world', 2),\n",
              "             ('the', 3),\n",
              "             ('sun', 1),\n",
              "             ('rises', 1),\n",
              "             ('in', 1),\n",
              "             ('east', 1),\n",
              "             ('ai', 1),\n",
              "             ('is', 4),\n",
              "             ('transforming', 1),\n",
              "             ('rnns', 1),\n",
              "             ('can', 1),\n",
              "             ('remember', 1),\n",
              "             ('previous', 1),\n",
              "             ('inputs', 1),\n",
              "             ('deep', 1),\n",
              "             ('learning', 2),\n",
              "             ('models', 1),\n",
              "             ('need', 1),\n",
              "             ('lots', 1),\n",
              "             ('of', 1),\n",
              "             ('data', 1),\n",
              "             ('this', 1),\n",
              "             ('short', 1),\n",
              "             ('sometimes', 1),\n",
              "             ('less', 1),\n",
              "             ('more', 1),\n",
              "             ('natural', 1),\n",
              "             ('language', 1),\n",
              "             ('processing', 1),\n",
              "             ('fun', 1),\n",
              "             ('and', 1),\n",
              "             ('complex', 1),\n",
              "             ('train', 1),\n",
              "             ('your', 1),\n",
              "             ('model', 1),\n",
              "             ('carefully', 1),\n",
              "             ('i', 1),\n",
              "             ('love', 1),\n",
              "             ('new', 1),\n",
              "             ('things', 1)])"
            ]
          },
          "metadata": {},
          "execution_count": 5
        }
      ]
    },
    {
      "cell_type": "code",
      "source": [
        "len(tokenizer.word_index)"
      ],
      "metadata": {
        "colab": {
          "base_uri": "https://localhost:8080/"
        },
        "id": "nqIC4BNG8yJK",
        "outputId": "fa063be5-8bc2-4c8a-c183-ccb19700b422"
      },
      "execution_count": 6,
      "outputs": [
        {
          "output_type": "execute_result",
          "data": {
            "text/plain": [
              "41"
            ]
          },
          "metadata": {},
          "execution_count": 6
        }
      ]
    },
    {
      "cell_type": "code",
      "source": [
        "# Nos of sentences in the document\n",
        "tokenizer.document_count"
      ],
      "metadata": {
        "colab": {
          "base_uri": "https://localhost:8080/"
        },
        "id": "w_NLVj9Q77jT",
        "outputId": "3b6766fe-28b7-4251-c493-ef2e4ed8efe3"
      },
      "execution_count": 7,
      "outputs": [
        {
          "output_type": "execute_result",
          "data": {
            "text/plain": [
              "10"
            ]
          },
          "metadata": {},
          "execution_count": 7
        }
      ]
    },
    {
      "cell_type": "code",
      "source": [
        "# Generate integer encoder sequences\n",
        "sequences = tokenizer.texts_to_sequences(docs)\n",
        "sequences"
      ],
      "metadata": {
        "colab": {
          "base_uri": "https://localhost:8080/"
        },
        "id": "rdsmCFh477g2",
        "outputId": "9b215781-720f-4bc2-b836-9f6dec0beec6"
      },
      "execution_count": 8,
      "outputs": [
        {
          "output_type": "execute_result",
          "data": {
            "text/plain": [
              "[[5, 3],\n",
              " [2, 6, 7, 8, 2, 9],\n",
              " [10, 1, 11, 2, 3],\n",
              " [12, 13, 14, 15, 16],\n",
              " [17, 4, 18, 19, 20, 21, 22],\n",
              " [23, 1, 24],\n",
              " [25, 26, 1, 27],\n",
              " [28, 29, 30, 1, 31, 32, 33],\n",
              " [34, 35, 36, 37],\n",
              " [38, 39, 4, 40, 41]]"
            ]
          },
          "metadata": {},
          "execution_count": 8
        }
      ]
    },
    {
      "cell_type": "code",
      "source": [
        "from tensorflow.keras.utils import pad_sequences"
      ],
      "metadata": {
        "id": "_9P3Inx477eX"
      },
      "execution_count": 9,
      "outputs": []
    },
    {
      "cell_type": "code",
      "source": [
        "# Padding the sequences to create matrix\n",
        "sequences = pad_sequences(sequences, padding = 'post')\n"
      ],
      "metadata": {
        "id": "oW5GGDAs77cC"
      },
      "execution_count": 10,
      "outputs": []
    },
    {
      "cell_type": "code",
      "source": [
        "sequences"
      ],
      "metadata": {
        "colab": {
          "base_uri": "https://localhost:8080/"
        },
        "id": "eQHpqXNk77YK",
        "outputId": "008a2496-7fef-4734-baec-df392eefa48a"
      },
      "execution_count": 11,
      "outputs": [
        {
          "output_type": "execute_result",
          "data": {
            "text/plain": [
              "array([[ 5,  3,  0,  0,  0,  0,  0],\n",
              "       [ 2,  6,  7,  8,  2,  9,  0],\n",
              "       [10,  1, 11,  2,  3,  0,  0],\n",
              "       [12, 13, 14, 15, 16,  0,  0],\n",
              "       [17,  4, 18, 19, 20, 21, 22],\n",
              "       [23,  1, 24,  0,  0,  0,  0],\n",
              "       [25, 26,  1, 27,  0,  0,  0],\n",
              "       [28, 29, 30,  1, 31, 32, 33],\n",
              "       [34, 35, 36, 37,  0,  0,  0],\n",
              "       [38, 39,  4, 40, 41,  0,  0]], dtype=int32)"
            ]
          },
          "metadata": {},
          "execution_count": 11
        }
      ]
    },
    {
      "cell_type": "code",
      "source": [
        "from tensorflow.keras import Sequential\n",
        "from tensorflow.keras.layers import Dense, Embedding, Flatten, SimpleRNN"
      ],
      "metadata": {
        "id": "DkEKxvcq9X5l"
      },
      "execution_count": 12,
      "outputs": []
    },
    {
      "cell_type": "code",
      "source": [
        "from tensorflow.keras import Sequential\n",
        "from tensorflow.keras.layers import Dense, Embedding, Flatten, SimpleRNN\n",
        "\n",
        "model = Sequential()\n",
        "model.add(Embedding(input_dim=42, output_dim=2))  # 42 x 2 | Dynamically it will assign values, at run time.\n",
        "\n",
        "model.summary()\n"
      ],
      "metadata": {
        "colab": {
          "base_uri": "https://localhost:8080/",
          "height": 164
        },
        "id": "B54dUR6Q9X3G",
        "outputId": "a9c434c1-1f81-44b5-cb7c-e5c8e23a8be0"
      },
      "execution_count": 18,
      "outputs": [
        {
          "output_type": "display_data",
          "data": {
            "text/plain": [
              "\u001b[1mModel: \"sequential_3\"\u001b[0m\n"
            ],
            "text/html": [
              "<pre style=\"white-space:pre;overflow-x:auto;line-height:normal;font-family:Menlo,'DejaVu Sans Mono',consolas,'Courier New',monospace\"><span style=\"font-weight: bold\">Model: \"sequential_3\"</span>\n",
              "</pre>\n"
            ]
          },
          "metadata": {}
        },
        {
          "output_type": "display_data",
          "data": {
            "text/plain": [
              "┏━━━━━━━━━━━━━━━━━━━━━━━━━━━━━━━━━┳━━━━━━━━━━━━━━━━━━━━━━━━┳━━━━━━━━━━━━━━━┓\n",
              "┃\u001b[1m \u001b[0m\u001b[1mLayer (type)                   \u001b[0m\u001b[1m \u001b[0m┃\u001b[1m \u001b[0m\u001b[1mOutput Shape          \u001b[0m\u001b[1m \u001b[0m┃\u001b[1m \u001b[0m\u001b[1m      Param #\u001b[0m\u001b[1m \u001b[0m┃\n",
              "┡━━━━━━━━━━━━━━━━━━━━━━━━━━━━━━━━━╇━━━━━━━━━━━━━━━━━━━━━━━━╇━━━━━━━━━━━━━━━┩\n",
              "│ embedding_3 (\u001b[38;5;33mEmbedding\u001b[0m)         │ ?                      │   \u001b[38;5;34m0\u001b[0m (unbuilt) │\n",
              "└─────────────────────────────────┴────────────────────────┴───────────────┘\n"
            ],
            "text/html": [
              "<pre style=\"white-space:pre;overflow-x:auto;line-height:normal;font-family:Menlo,'DejaVu Sans Mono',consolas,'Courier New',monospace\">┏━━━━━━━━━━━━━━━━━━━━━━━━━━━━━━━━━┳━━━━━━━━━━━━━━━━━━━━━━━━┳━━━━━━━━━━━━━━━┓\n",
              "┃<span style=\"font-weight: bold\"> Layer (type)                    </span>┃<span style=\"font-weight: bold\"> Output Shape           </span>┃<span style=\"font-weight: bold\">       Param # </span>┃\n",
              "┡━━━━━━━━━━━━━━━━━━━━━━━━━━━━━━━━━╇━━━━━━━━━━━━━━━━━━━━━━━━╇━━━━━━━━━━━━━━━┩\n",
              "│ embedding_3 (<span style=\"color: #0087ff; text-decoration-color: #0087ff\">Embedding</span>)         │ ?                      │   <span style=\"color: #00af00; text-decoration-color: #00af00\">0</span> (unbuilt) │\n",
              "└─────────────────────────────────┴────────────────────────┴───────────────┘\n",
              "</pre>\n"
            ]
          },
          "metadata": {}
        },
        {
          "output_type": "display_data",
          "data": {
            "text/plain": [
              "\u001b[1m Total params: \u001b[0m\u001b[38;5;34m0\u001b[0m (0.00 B)\n"
            ],
            "text/html": [
              "<pre style=\"white-space:pre;overflow-x:auto;line-height:normal;font-family:Menlo,'DejaVu Sans Mono',consolas,'Courier New',monospace\"><span style=\"font-weight: bold\"> Total params: </span><span style=\"color: #00af00; text-decoration-color: #00af00\">0</span> (0.00 B)\n",
              "</pre>\n"
            ]
          },
          "metadata": {}
        },
        {
          "output_type": "display_data",
          "data": {
            "text/plain": [
              "\u001b[1m Trainable params: \u001b[0m\u001b[38;5;34m0\u001b[0m (0.00 B)\n"
            ],
            "text/html": [
              "<pre style=\"white-space:pre;overflow-x:auto;line-height:normal;font-family:Menlo,'DejaVu Sans Mono',consolas,'Courier New',monospace\"><span style=\"font-weight: bold\"> Trainable params: </span><span style=\"color: #00af00; text-decoration-color: #00af00\">0</span> (0.00 B)\n",
              "</pre>\n"
            ]
          },
          "metadata": {}
        },
        {
          "output_type": "display_data",
          "data": {
            "text/plain": [
              "\u001b[1m Non-trainable params: \u001b[0m\u001b[38;5;34m0\u001b[0m (0.00 B)\n"
            ],
            "text/html": [
              "<pre style=\"white-space:pre;overflow-x:auto;line-height:normal;font-family:Menlo,'DejaVu Sans Mono',consolas,'Courier New',monospace\"><span style=\"font-weight: bold\"> Non-trainable params: </span><span style=\"color: #00af00; text-decoration-color: #00af00\">0</span> (0.00 B)\n",
              "</pre>\n"
            ]
          },
          "metadata": {}
        }
      ]
    },
    {
      "cell_type": "code",
      "source": [
        "model.compile(optimizer = 'adam', metrics=['accuracy'])"
      ],
      "metadata": {
        "id": "-wgcbtP19X0d"
      },
      "execution_count": null,
      "outputs": []
    },
    {
      "cell_type": "code",
      "source": [
        "tokenizer.word_index"
      ],
      "metadata": {
        "colab": {
          "base_uri": "https://localhost:8080/"
        },
        "id": "3y1o0PH3KRwU",
        "outputId": "d5ca407c-d1ec-4b88-80db-9dd5d77458cd"
      },
      "execution_count": 24,
      "outputs": [
        {
          "output_type": "execute_result",
          "data": {
            "text/plain": [
              "{'is': 1,\n",
              " 'the': 2,\n",
              " 'world': 3,\n",
              " 'learning': 4,\n",
              " 'hello': 5,\n",
              " 'sun': 6,\n",
              " 'rises': 7,\n",
              " 'in': 8,\n",
              " 'east': 9,\n",
              " 'ai': 10,\n",
              " 'transforming': 11,\n",
              " 'rnns': 12,\n",
              " 'can': 13,\n",
              " 'remember': 14,\n",
              " 'previous': 15,\n",
              " 'inputs': 16,\n",
              " 'deep': 17,\n",
              " 'models': 18,\n",
              " 'need': 19,\n",
              " 'lots': 20,\n",
              " 'of': 21,\n",
              " 'data': 22,\n",
              " 'this': 23,\n",
              " 'short': 24,\n",
              " 'sometimes': 25,\n",
              " 'less': 26,\n",
              " 'more': 27,\n",
              " 'natural': 28,\n",
              " 'language': 29,\n",
              " 'processing': 30,\n",
              " 'fun': 31,\n",
              " 'and': 32,\n",
              " 'complex': 33,\n",
              " 'train': 34,\n",
              " 'your': 35,\n",
              " 'model': 36,\n",
              " 'carefully': 37,\n",
              " 'i': 38,\n",
              " 'love': 39,\n",
              " 'new': 40,\n",
              " 'things': 41}"
            ]
          },
          "metadata": {},
          "execution_count": 24
        }
      ]
    },
    {
      "cell_type": "code",
      "source": [
        "pred = model.predict(sequences)\n",
        "print(pred)"
      ],
      "metadata": {
        "id": "J8Nr85hD9XpB",
        "colab": {
          "base_uri": "https://localhost:8080/"
        },
        "outputId": "2e916979-4669-4c73-f3ec-a41045d6f9b4"
      },
      "execution_count": 19,
      "outputs": [
        {
          "output_type": "stream",
          "name": "stdout",
          "text": [
            "\u001b[1m1/1\u001b[0m \u001b[32m━━━━━━━━━━━━━━━━━━━━\u001b[0m\u001b[37m\u001b[0m \u001b[1m0s\u001b[0m 133ms/step\n",
            "[[[ 4.0089753e-02 -2.8899089e-03]\n",
            "  [-1.7991029e-02 -4.6075094e-02]\n",
            "  [ 1.9905679e-03 -3.9503135e-02]\n",
            "  [ 1.9905679e-03 -3.9503135e-02]\n",
            "  [ 1.9905679e-03 -3.9503135e-02]\n",
            "  [ 1.9905679e-03 -3.9503135e-02]\n",
            "  [ 1.9905679e-03 -3.9503135e-02]]\n",
            "\n",
            " [[-4.3799654e-03  3.6439452e-02]\n",
            "  [ 6.6610947e-03  1.8307332e-02]\n",
            "  [ 3.4773897e-02 -4.0760349e-02]\n",
            "  [ 1.9711424e-02 -1.1650123e-02]\n",
            "  [-4.3799654e-03  3.6439452e-02]\n",
            "  [-3.7502147e-02 -4.4282246e-02]\n",
            "  [ 1.9905679e-03 -3.9503135e-02]]\n",
            "\n",
            " [[-5.5479892e-03 -1.2880970e-02]\n",
            "  [ 3.2972779e-02 -2.2663951e-02]\n",
            "  [ 9.2032664e-03 -1.8297829e-02]\n",
            "  [-4.3799654e-03  3.6439452e-02]\n",
            "  [-1.7991029e-02 -4.6075094e-02]\n",
            "  [ 1.9905679e-03 -3.9503135e-02]\n",
            "  [ 1.9905679e-03 -3.9503135e-02]]\n",
            "\n",
            " [[ 1.2170397e-02  9.1099739e-03]\n",
            "  [-4.1835677e-02  6.6809542e-03]\n",
            "  [ 4.8210446e-02 -4.7867168e-02]\n",
            "  [-2.6270771e-02  2.2790994e-02]\n",
            "  [ 2.5689911e-02  2.1836761e-02]\n",
            "  [ 1.9905679e-03 -3.9503135e-02]\n",
            "  [ 1.9905679e-03 -3.9503135e-02]]\n",
            "\n",
            " [[ 4.1959438e-02  1.8289361e-02]\n",
            "  [ 1.3334379e-03  2.3165572e-02]\n",
            "  [-2.5277806e-02  2.5586795e-02]\n",
            "  [ 4.2934790e-03 -5.9476607e-03]\n",
            "  [ 2.9787198e-03 -4.2646158e-02]\n",
            "  [-2.7648259e-02  2.5048982e-02]\n",
            "  [ 4.3547738e-02 -4.0613364e-02]]\n",
            "\n",
            " [[-2.6744200e-02 -4.0833294e-02]\n",
            "  [ 3.2972779e-02 -2.2663951e-02]\n",
            "  [-1.0074891e-02 -3.5348512e-02]\n",
            "  [ 1.9905679e-03 -3.9503135e-02]\n",
            "  [ 1.9905679e-03 -3.9503135e-02]\n",
            "  [ 1.9905679e-03 -3.9503135e-02]\n",
            "  [ 1.9905679e-03 -3.9503135e-02]]\n",
            "\n",
            " [[ 1.2073405e-03 -4.6705604e-02]\n",
            "  [-1.0888793e-02 -3.8741540e-02]\n",
            "  [ 3.2972779e-02 -2.2663951e-02]\n",
            "  [ 4.8436109e-02 -4.8087444e-02]\n",
            "  [ 1.9905679e-03 -3.9503135e-02]\n",
            "  [ 1.9905679e-03 -3.9503135e-02]\n",
            "  [ 1.9905679e-03 -3.9503135e-02]]\n",
            "\n",
            " [[-2.2077167e-02  4.8196170e-02]\n",
            "  [-4.1864790e-02 -2.4780607e-02]\n",
            "  [ 8.2476623e-03 -1.9065512e-02]\n",
            "  [ 3.2972779e-02 -2.2663951e-02]\n",
            "  [-2.9927099e-02  1.3814796e-02]\n",
            "  [ 3.4560684e-02  2.7903881e-02]\n",
            "  [ 5.1423907e-03  2.0972874e-02]]\n",
            "\n",
            " [[ 4.0322278e-02 -2.2140121e-02]\n",
            "  [ 4.6559963e-02  3.7703659e-02]\n",
            "  [-9.4920993e-03 -2.2282137e-02]\n",
            "  [-4.7970563e-05  1.0812949e-02]\n",
            "  [ 1.9905679e-03 -3.9503135e-02]\n",
            "  [ 1.9905679e-03 -3.9503135e-02]\n",
            "  [ 1.9905679e-03 -3.9503135e-02]]\n",
            "\n",
            " [[-1.0493934e-02  3.1776521e-02]\n",
            "  [-8.1238262e-03  1.8505070e-02]\n",
            "  [ 1.3334379e-03  2.3165572e-02]\n",
            "  [-4.2641580e-02  1.8014822e-02]\n",
            "  [ 4.7160123e-02 -1.5791249e-02]\n",
            "  [ 1.9905679e-03 -3.9503135e-02]\n",
            "  [ 1.9905679e-03 -3.9503135e-02]]]\n"
          ]
        }
      ]
    },
    {
      "cell_type": "code",
      "source": [
        "## Full fledged implementation\n",
        "from tensorflow.keras.datasets import imdb\n",
        "from tensorflow.keras import Sequential\n",
        "from tensorflow.keras.layers import Dense, Embedding, Flatten, SimpleRNN"
      ],
      "metadata": {
        "id": "8ytbcV3j77Vk"
      },
      "execution_count": 25,
      "outputs": []
    },
    {
      "cell_type": "code",
      "source": [
        "(X_train, y_train), (X_test, y_test) = imdb.load_data()"
      ],
      "metadata": {
        "id": "CQlF3ZNK77Tt"
      },
      "execution_count": 26,
      "outputs": []
    },
    {
      "cell_type": "code",
      "source": [
        "X_train.shape"
      ],
      "metadata": {
        "colab": {
          "base_uri": "https://localhost:8080/"
        },
        "id": "lwIFhye877RQ",
        "outputId": "f9ba994d-1f8b-4623-a080-130da73c27a4"
      },
      "execution_count": 27,
      "outputs": [
        {
          "output_type": "execute_result",
          "data": {
            "text/plain": [
              "(25000,)"
            ]
          },
          "metadata": {},
          "execution_count": 27
        }
      ]
    },
    {
      "cell_type": "code",
      "source": [
        "X_test.shape"
      ],
      "metadata": {
        "colab": {
          "base_uri": "https://localhost:8080/"
        },
        "id": "Yo6uyeuV77Oz",
        "outputId": "025d7bb1-2fc1-4598-94fa-beadff465001"
      },
      "execution_count": 28,
      "outputs": [
        {
          "output_type": "execute_result",
          "data": {
            "text/plain": [
              "(25000,)"
            ]
          },
          "metadata": {},
          "execution_count": 28
        }
      ]
    },
    {
      "cell_type": "code",
      "source": [
        "X_train[0]"
      ],
      "metadata": {
        "colab": {
          "base_uri": "https://localhost:8080/"
        },
        "id": "4jbaW6PY77Mp",
        "outputId": "74ec738a-21dc-4094-babc-81f41d505668"
      },
      "execution_count": 29,
      "outputs": [
        {
          "output_type": "execute_result",
          "data": {
            "text/plain": [
              "[1,\n",
              " 14,\n",
              " 22,\n",
              " 16,\n",
              " 43,\n",
              " 530,\n",
              " 973,\n",
              " 1622,\n",
              " 1385,\n",
              " 65,\n",
              " 458,\n",
              " 4468,\n",
              " 66,\n",
              " 3941,\n",
              " 4,\n",
              " 173,\n",
              " 36,\n",
              " 256,\n",
              " 5,\n",
              " 25,\n",
              " 100,\n",
              " 43,\n",
              " 838,\n",
              " 112,\n",
              " 50,\n",
              " 670,\n",
              " 22665,\n",
              " 9,\n",
              " 35,\n",
              " 480,\n",
              " 284,\n",
              " 5,\n",
              " 150,\n",
              " 4,\n",
              " 172,\n",
              " 112,\n",
              " 167,\n",
              " 21631,\n",
              " 336,\n",
              " 385,\n",
              " 39,\n",
              " 4,\n",
              " 172,\n",
              " 4536,\n",
              " 1111,\n",
              " 17,\n",
              " 546,\n",
              " 38,\n",
              " 13,\n",
              " 447,\n",
              " 4,\n",
              " 192,\n",
              " 50,\n",
              " 16,\n",
              " 6,\n",
              " 147,\n",
              " 2025,\n",
              " 19,\n",
              " 14,\n",
              " 22,\n",
              " 4,\n",
              " 1920,\n",
              " 4613,\n",
              " 469,\n",
              " 4,\n",
              " 22,\n",
              " 71,\n",
              " 87,\n",
              " 12,\n",
              " 16,\n",
              " 43,\n",
              " 530,\n",
              " 38,\n",
              " 76,\n",
              " 15,\n",
              " 13,\n",
              " 1247,\n",
              " 4,\n",
              " 22,\n",
              " 17,\n",
              " 515,\n",
              " 17,\n",
              " 12,\n",
              " 16,\n",
              " 626,\n",
              " 18,\n",
              " 19193,\n",
              " 5,\n",
              " 62,\n",
              " 386,\n",
              " 12,\n",
              " 8,\n",
              " 316,\n",
              " 8,\n",
              " 106,\n",
              " 5,\n",
              " 4,\n",
              " 2223,\n",
              " 5244,\n",
              " 16,\n",
              " 480,\n",
              " 66,\n",
              " 3785,\n",
              " 33,\n",
              " 4,\n",
              " 130,\n",
              " 12,\n",
              " 16,\n",
              " 38,\n",
              " 619,\n",
              " 5,\n",
              " 25,\n",
              " 124,\n",
              " 51,\n",
              " 36,\n",
              " 135,\n",
              " 48,\n",
              " 25,\n",
              " 1415,\n",
              " 33,\n",
              " 6,\n",
              " 22,\n",
              " 12,\n",
              " 215,\n",
              " 28,\n",
              " 77,\n",
              " 52,\n",
              " 5,\n",
              " 14,\n",
              " 407,\n",
              " 16,\n",
              " 82,\n",
              " 10311,\n",
              " 8,\n",
              " 4,\n",
              " 107,\n",
              " 117,\n",
              " 5952,\n",
              " 15,\n",
              " 256,\n",
              " 4,\n",
              " 31050,\n",
              " 7,\n",
              " 3766,\n",
              " 5,\n",
              " 723,\n",
              " 36,\n",
              " 71,\n",
              " 43,\n",
              " 530,\n",
              " 476,\n",
              " 26,\n",
              " 400,\n",
              " 317,\n",
              " 46,\n",
              " 7,\n",
              " 4,\n",
              " 12118,\n",
              " 1029,\n",
              " 13,\n",
              " 104,\n",
              " 88,\n",
              " 4,\n",
              " 381,\n",
              " 15,\n",
              " 297,\n",
              " 98,\n",
              " 32,\n",
              " 2071,\n",
              " 56,\n",
              " 26,\n",
              " 141,\n",
              " 6,\n",
              " 194,\n",
              " 7486,\n",
              " 18,\n",
              " 4,\n",
              " 226,\n",
              " 22,\n",
              " 21,\n",
              " 134,\n",
              " 476,\n",
              " 26,\n",
              " 480,\n",
              " 5,\n",
              " 144,\n",
              " 30,\n",
              " 5535,\n",
              " 18,\n",
              " 51,\n",
              " 36,\n",
              " 28,\n",
              " 224,\n",
              " 92,\n",
              " 25,\n",
              " 104,\n",
              " 4,\n",
              " 226,\n",
              " 65,\n",
              " 16,\n",
              " 38,\n",
              " 1334,\n",
              " 88,\n",
              " 12,\n",
              " 16,\n",
              " 283,\n",
              " 5,\n",
              " 16,\n",
              " 4472,\n",
              " 113,\n",
              " 103,\n",
              " 32,\n",
              " 15,\n",
              " 16,\n",
              " 5345,\n",
              " 19,\n",
              " 178,\n",
              " 32]"
            ]
          },
          "metadata": {},
          "execution_count": 29
        }
      ]
    },
    {
      "cell_type": "code",
      "source": [
        "X_train = pad_sequences(X_train, padding='post', maxlen=50)\n",
        "X_test = pad_sequences(X_test, padding='post', maxlen=50)"
      ],
      "metadata": {
        "id": "OZcfxCIA77KV"
      },
      "execution_count": 31,
      "outputs": []
    },
    {
      "cell_type": "code",
      "source": [
        "X_train.shape"
      ],
      "metadata": {
        "colab": {
          "base_uri": "https://localhost:8080/"
        },
        "id": "_yHKnIqm77H2",
        "outputId": "4835e994-cd28-43fe-a0ef-49df71f0e78e"
      },
      "execution_count": 32,
      "outputs": [
        {
          "output_type": "execute_result",
          "data": {
            "text/plain": [
              "(25000, 50)"
            ]
          },
          "metadata": {},
          "execution_count": 32
        }
      ]
    },
    {
      "cell_type": "code",
      "source": [
        "# Let's build a simple RNN model\n",
        "model = Sequential()\n",
        "\n",
        "model.add(Embedding(input_dim=10000, input_length = X_train[1], output_dim=2))\n",
        "model.add(SimpleRNN(32, return_sequences=False))    # If True, then hidden state/output of each step is also sent as the main output; here only at the end\n",
        "model.add(Dense(1, activation='sigmoid'))\n",
        "\n",
        "model.summary()"
      ],
      "metadata": {
        "colab": {
          "base_uri": "https://localhost:8080/",
          "height": 266
        },
        "id": "ibrbnJxA77FD",
        "outputId": "38c3b30f-dc00-4816-840b-4ee161969cc5"
      },
      "execution_count": 39,
      "outputs": [
        {
          "output_type": "stream",
          "name": "stderr",
          "text": [
            "/usr/local/lib/python3.11/dist-packages/keras/src/layers/core/embedding.py:90: UserWarning: Argument `input_length` is deprecated. Just remove it.\n",
            "  warnings.warn(\n"
          ]
        },
        {
          "output_type": "display_data",
          "data": {
            "text/plain": [
              "\u001b[1mModel: \"sequential_7\"\u001b[0m\n"
            ],
            "text/html": [
              "<pre style=\"white-space:pre;overflow-x:auto;line-height:normal;font-family:Menlo,'DejaVu Sans Mono',consolas,'Courier New',monospace\"><span style=\"font-weight: bold\">Model: \"sequential_7\"</span>\n",
              "</pre>\n"
            ]
          },
          "metadata": {}
        },
        {
          "output_type": "display_data",
          "data": {
            "text/plain": [
              "┏━━━━━━━━━━━━━━━━━━━━━━━━━━━━━━━━━┳━━━━━━━━━━━━━━━━━━━━━━━━┳━━━━━━━━━━━━━━━┓\n",
              "┃\u001b[1m \u001b[0m\u001b[1mLayer (type)                   \u001b[0m\u001b[1m \u001b[0m┃\u001b[1m \u001b[0m\u001b[1mOutput Shape          \u001b[0m\u001b[1m \u001b[0m┃\u001b[1m \u001b[0m\u001b[1m      Param #\u001b[0m\u001b[1m \u001b[0m┃\n",
              "┡━━━━━━━━━━━━━━━━━━━━━━━━━━━━━━━━━╇━━━━━━━━━━━━━━━━━━━━━━━━╇━━━━━━━━━━━━━━━┩\n",
              "│ embedding_7 (\u001b[38;5;33mEmbedding\u001b[0m)         │ ?                      │   \u001b[38;5;34m0\u001b[0m (unbuilt) │\n",
              "├─────────────────────────────────┼────────────────────────┼───────────────┤\n",
              "│ simple_rnn_3 (\u001b[38;5;33mSimpleRNN\u001b[0m)        │ ?                      │   \u001b[38;5;34m0\u001b[0m (unbuilt) │\n",
              "├─────────────────────────────────┼────────────────────────┼───────────────┤\n",
              "│ dense_2 (\u001b[38;5;33mDense\u001b[0m)                 │ ?                      │   \u001b[38;5;34m0\u001b[0m (unbuilt) │\n",
              "└─────────────────────────────────┴────────────────────────┴───────────────┘\n"
            ],
            "text/html": [
              "<pre style=\"white-space:pre;overflow-x:auto;line-height:normal;font-family:Menlo,'DejaVu Sans Mono',consolas,'Courier New',monospace\">┏━━━━━━━━━━━━━━━━━━━━━━━━━━━━━━━━━┳━━━━━━━━━━━━━━━━━━━━━━━━┳━━━━━━━━━━━━━━━┓\n",
              "┃<span style=\"font-weight: bold\"> Layer (type)                    </span>┃<span style=\"font-weight: bold\"> Output Shape           </span>┃<span style=\"font-weight: bold\">       Param # </span>┃\n",
              "┡━━━━━━━━━━━━━━━━━━━━━━━━━━━━━━━━━╇━━━━━━━━━━━━━━━━━━━━━━━━╇━━━━━━━━━━━━━━━┩\n",
              "│ embedding_7 (<span style=\"color: #0087ff; text-decoration-color: #0087ff\">Embedding</span>)         │ ?                      │   <span style=\"color: #00af00; text-decoration-color: #00af00\">0</span> (unbuilt) │\n",
              "├─────────────────────────────────┼────────────────────────┼───────────────┤\n",
              "│ simple_rnn_3 (<span style=\"color: #0087ff; text-decoration-color: #0087ff\">SimpleRNN</span>)        │ ?                      │   <span style=\"color: #00af00; text-decoration-color: #00af00\">0</span> (unbuilt) │\n",
              "├─────────────────────────────────┼────────────────────────┼───────────────┤\n",
              "│ dense_2 (<span style=\"color: #0087ff; text-decoration-color: #0087ff\">Dense</span>)                 │ ?                      │   <span style=\"color: #00af00; text-decoration-color: #00af00\">0</span> (unbuilt) │\n",
              "└─────────────────────────────────┴────────────────────────┴───────────────┘\n",
              "</pre>\n"
            ]
          },
          "metadata": {}
        },
        {
          "output_type": "display_data",
          "data": {
            "text/plain": [
              "\u001b[1m Total params: \u001b[0m\u001b[38;5;34m0\u001b[0m (0.00 B)\n"
            ],
            "text/html": [
              "<pre style=\"white-space:pre;overflow-x:auto;line-height:normal;font-family:Menlo,'DejaVu Sans Mono',consolas,'Courier New',monospace\"><span style=\"font-weight: bold\"> Total params: </span><span style=\"color: #00af00; text-decoration-color: #00af00\">0</span> (0.00 B)\n",
              "</pre>\n"
            ]
          },
          "metadata": {}
        },
        {
          "output_type": "display_data",
          "data": {
            "text/plain": [
              "\u001b[1m Trainable params: \u001b[0m\u001b[38;5;34m0\u001b[0m (0.00 B)\n"
            ],
            "text/html": [
              "<pre style=\"white-space:pre;overflow-x:auto;line-height:normal;font-family:Menlo,'DejaVu Sans Mono',consolas,'Courier New',monospace\"><span style=\"font-weight: bold\"> Trainable params: </span><span style=\"color: #00af00; text-decoration-color: #00af00\">0</span> (0.00 B)\n",
              "</pre>\n"
            ]
          },
          "metadata": {}
        },
        {
          "output_type": "display_data",
          "data": {
            "text/plain": [
              "\u001b[1m Non-trainable params: \u001b[0m\u001b[38;5;34m0\u001b[0m (0.00 B)\n"
            ],
            "text/html": [
              "<pre style=\"white-space:pre;overflow-x:auto;line-height:normal;font-family:Menlo,'DejaVu Sans Mono',consolas,'Courier New',monospace\"><span style=\"font-weight: bold\"> Non-trainable params: </span><span style=\"color: #00af00; text-decoration-color: #00af00\">0</span> (0.00 B)\n",
              "</pre>\n"
            ]
          },
          "metadata": {}
        }
      ]
    },
    {
      "cell_type": "code",
      "source": [],
      "metadata": {
        "colab": {
          "base_uri": "https://localhost:8080/"
        },
        "id": "hV-EJEJ1NLyy",
        "outputId": "8bbaf7b2-4059-4301-eaf1-691e642a156b"
      },
      "execution_count": 37,
      "outputs": [
        {
          "output_type": "execute_result",
          "data": {
            "text/plain": [
              "array([2071,   56,   26,  141,    6,  194, 7486,   18,    4,  226,   22,\n",
              "         21,  134,  476,   26,  480,    5,  144,   30, 5535,   18,   51,\n",
              "         36,   28,  224,   92,   25,  104,    4,  226,   65,   16,   38,\n",
              "       1334,   88,   12,   16,  283,    5,   16, 4472,  113,  103,   32,\n",
              "         15,   16, 5345,   19,  178,   32], dtype=int32)"
            ]
          },
          "metadata": {},
          "execution_count": 37
        }
      ]
    },
    {
      "cell_type": "code",
      "source": [
        "np.max(X_train)"
      ],
      "metadata": {
        "id": "sM_hpTgwRt8x",
        "colab": {
          "base_uri": "https://localhost:8080/"
        },
        "outputId": "4dcc2ca5-9679-4bc3-d885-48cfa2c43ddc"
      },
      "execution_count": 47,
      "outputs": [
        {
          "output_type": "execute_result",
          "data": {
            "text/plain": [
              "np.int32(88585)"
            ]
          },
          "metadata": {},
          "execution_count": 47
        }
      ]
    },
    {
      "cell_type": "code",
      "source": [],
      "metadata": {
        "id": "Z1mgaTirRt6l"
      },
      "execution_count": null,
      "outputs": []
    },
    {
      "cell_type": "code",
      "source": [],
      "metadata": {
        "id": "TieaS0DNRt4K"
      },
      "execution_count": null,
      "outputs": []
    },
    {
      "cell_type": "code",
      "source": [],
      "metadata": {
        "id": "WSZosjaRRt1l"
      },
      "execution_count": null,
      "outputs": []
    }
  ]
}